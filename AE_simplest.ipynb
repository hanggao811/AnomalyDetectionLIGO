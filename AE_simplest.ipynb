{
  "cells": [
    {
      "cell_type": "markdown",
      "metadata": {
        "id": "view-in-github",
        "colab_type": "text"
      },
      "source": [
        "<a href=\"https://colab.research.google.com/github/hanggao811/AnomalyDetectionLIGO/blob/main/AE_simplest.ipynb\" target=\"_parent\"><img src=\"https://colab.research.google.com/assets/colab-badge.svg\" alt=\"Open In Colab\"/></a>"
      ]
    },
    {
      "cell_type": "code",
      "execution_count": 128,
      "metadata": {
        "colab": {
          "base_uri": "https://localhost:8080/"
        },
        "id": "NqD9Na21fnjL",
        "outputId": "974620ec-34cc-4964-9030-0a9d5a4d3654"
      },
      "outputs": [
        {
          "output_type": "stream",
          "name": "stdout",
          "text": [
            "Drive already mounted at /content/drive; to attempt to forcibly remount, call drive.mount(\"/content/drive\", force_remount=True).\n"
          ]
        }
      ],
      "source": [
        "# Imports\n",
        "import os\n",
        "import numpy as np\n",
        "import tensorflow as tf\n",
        "from tensorflow import keras\n",
        "from tensorflow.keras import layers\n",
        "from tensorflow.keras.layers import BatchNormalization, Input\n",
        "from matplotlib import pyplot as plt\n",
        "from sklearn import metrics\n",
        "from tensorflow.keras.callbacks import ModelCheckpoint, EarlyStopping\n",
        "from sklearn.model_selection import train_test_split\n",
        "from sklearn.metrics import roc_curve, roc_auc_score\n",
        "import glob, re\n",
        "from sklearn.base import BaseEstimator, RegressorMixin\n",
        "from tensorflow.keras.models import load_model as keras_load_model\n",
        "from sklearn.model_selection import GridSearchCV, RandomizedSearchCV\n",
        "from scipy.signal import welch, csd, coherence, stft\n",
        "# Set random seed\n",
        "import random\n",
        "random.seed(42)\n",
        "np.random.seed(42)\n",
        "tf.random.set_seed(42)\n",
        "# Mount to googlecolab\n",
        "from google.colab import drive\n",
        "drive.mount('/content/drive')\n",
        "os.chdir('/content/drive/My Drive/LIGO/DatasetSplitting/Datasplitting01/dataset')\n"
      ]
    },
    {
      "cell_type": "code",
      "execution_count": 129,
      "metadata": {
        "id": "zp9N-sHcZDpe"
      },
      "outputs": [],
      "source": [
        "# Load data and normalize it\n",
        "background_train = np.load('background_train.npy')\n",
        "stds_train = np.std(background_train, axis=-1)[:, :, np.newaxis]\n",
        "background_train = background_train/stds_train\n",
        "background_train = np.swapaxes(background_train, 1, 2)\n",
        "\n",
        "background_test = np.load('background_test.npy')\n",
        "stds_test = np.std(background_test, axis=-1)[:, :, np.newaxis]\n",
        "background_test = background_test/stds_test\n",
        "background_test = np.swapaxes(background_test, 1, 2)\n",
        "\n",
        "bbh_train = np.load('bbh_train.npy')\n",
        "stds_train = np.std(bbh_train, axis=-1)[:, :, np.newaxis]\n",
        "bbh_train = bbh_train/stds_train\n",
        "bbh_train = np.swapaxes(bbh_train, 1, 2)\n",
        "\n",
        "bbh_test = np.load('bbh_test.npy')\n",
        "stds_test = np.std(bbh_test, axis=-1)[:, :, np.newaxis]\n",
        "bbh_test = bbh_test/stds_test\n",
        "bbh_test = np.swapaxes(bbh_test, 1, 2)\n",
        "\n",
        "sglf_train = np.load('sglf_train.npy')\n",
        "stds_train = np.std(sglf_train, axis=-1)[:, :, np.newaxis]\n",
        "sglf_train = sglf_train/stds_train\n",
        "sglf_train = np.swapaxes(sglf_train, 1, 2)\n",
        "\n",
        "sglf_test = np.load('sglf_test.npy')\n",
        "stds_test = np.std(sglf_test, axis=-1)[:, :, np.newaxis]\n",
        "sglf_test = sglf_test/stds_test\n",
        "sglf_test = np.swapaxes(sglf_test, 1, 2)\n",
        "\n",
        "# Load test data and normalize them\n",
        "data = np.load('ligo_bb_final.npz')\n",
        "test_data = data['data']\n",
        "stds = np.std(test_data, axis=-1)[:, :, np.newaxis]\n",
        "test_data = test_data/stds\n",
        "test_data = np.swapaxes(test_data, 1, 2)\n",
        "\n",
        "data_label = data['ids']\n",
        "indices1 = np.where(data_label == 1)[0]\n",
        "indices0 = np.where(data_label == 0)[0]\n",
        "background_test_data = test_data[indices0]\n",
        "signal_test_data = test_data[indices1]"
      ]
    },
    {
      "cell_type": "code",
      "source": [
        "print('shape for background train/test' , background_train.shape, background_test.shape)\n",
        "print('shape for bbh train/test' , bbh_train.shape, bbh_test.shape)\n",
        "print('shape for sglf train/test' , sglf_train.shape, sglf_test.shape)\n",
        "print('shape for test bg/test data' , background_test_data.shape, signal_test_data.shape)"
      ],
      "metadata": {
        "colab": {
          "base_uri": "https://localhost:8080/"
        },
        "id": "1F_tqd7SGMLJ",
        "outputId": "731656ed-edc9-4408-dfee-370edf4888c1"
      },
      "execution_count": 130,
      "outputs": [
        {
          "output_type": "stream",
          "name": "stdout",
          "text": [
            "shape for background train/test (80000, 200, 2) (20000, 200, 2)\n",
            "shape for bbh train/test (80000, 200, 2) (20000, 200, 2)\n",
            "shape for sglf train/test (80000, 200, 2) (20000, 200, 2)\n",
            "shape for test bg/test data (50000, 200, 2) (10000, 200, 2)\n"
          ]
        }
      ]
    },
    {
      "cell_type": "code",
      "source": [
        "# Making correlation\n",
        "def add_correlation_channel(x):\n",
        "    x1, x2 = x[:, :, 0], x[:, :, 1]\n",
        "    corr = np.array([\n",
        "        np.correlate(x1[i], x2[i], mode='same') for i in range(x.shape[0])\n",
        "    ])\n",
        "    return np.stack([x1, x2, corr], axis=-1)\n",
        "\n",
        "background_train = add_correlation_channel(background_train)\n",
        "background_test = add_correlation_channel(background_test)\n",
        "bbh_train = add_correlation_channel(bbh_train)\n",
        "bbh_test = add_correlation_channel(bbh_test)\n",
        "sglf_train = add_correlation_channel(sglf_train)\n",
        "sglf_test = add_correlation_channel(sglf_test)\n",
        "background_test_data = add_correlation_channel(background_test_data)\n",
        "signal_test_data = add_correlation_channel(signal_test_data)\n"
      ],
      "metadata": {
        "id": "Zdj2poEHvlNq"
      },
      "execution_count": 131,
      "outputs": []
    },
    {
      "cell_type": "code",
      "source": [
        "# Add Psd channel using Welch with shape (N_samples, 101)\n",
        "fs = 4096\n",
        "##--background_psd--##\n",
        "_,bg_train_psd = csd(background_train[:,:,0], background_train[:,:,1], fs=fs, nperseg=200)\n",
        "_,bg_test_psd = csd(background_test[:,:,0], background_test[:,:,1], fs=fs, nperseg=200)\n",
        "bg_train_psd = abs(bg_train_psd)\n",
        "bg_test_psd = abs(bg_test_psd)\n",
        "##--bbh_psd--##\n",
        "_,bbh_train_psd = csd(bbh_train[:,:,0], bbh_train[:,:,1], fs=fs, nperseg=200)\n",
        "_,bbh_test_psd = csd(bbh_test[:,:,0],bbh_test[:,:,1], fs=fs, nperseg=200)\n",
        "bbh_train_psd = abs(bbh_train_psd)\n",
        "bbh_test_psd = abs(bbh_test_psd)\n",
        "##--sglf_psd--##\n",
        "_,sglf_train_psd = csd(sglf_train[:,:,0], sglf_train[:,:,1], fs=fs, nperseg=200)\n",
        "_,sglf_test_psd = csd(sglf_test[:,:,0],sglf_test[:,:,1],fs=fs,nperseg=200)\n",
        "sglf_train_psd = abs(sglf_train_psd)\n",
        "sglf_test_psd = abs(sglf_test_psd)\n",
        "##--signal_test_dat_psd--##\n",
        "_,signal_test_data_psd = csd(signal_test_data[:,:,0],signal_test_data[:,:,1],fs=fs,nperseg=200)\n",
        "_,background_test_data_psd = csd(background_test_data[:,:,0],background_test_data[:,:,1],fs=fs,nperseg=200)\n",
        "signal_test_data_psd = abs(signal_test_data_psd)\n",
        "background_test_data_psd = abs(background_test_data_psd)\n",
        "\n",
        "\n",
        "\n",
        "# Add Psd channel using Welch with shape (N_samples, 101)\n",
        "fs = 4096\n",
        "##--background_psd--##\n",
        "f,t,bg_train_stft = stft(background_train[:,:,0] , fs=fs, nperseg=10)\n",
        "# bg_train_stft = abs(bg_train_stft)\n",
        "f,t,bg_test_stft = stft(background_test[:,:,0], fs=fs, nperseg=10)\n",
        "# bg_test_stft = abs(bg_test_stft)\n",
        "##--bbh_psd--##\n",
        "f,t,bbh_train_stft = stft(bbh_train[:,:,0], fs=fs, nperseg=10)\n",
        "bbh_train_stft = abs(bbh_train_stft)\n",
        "f,t,bbh_test_stft = stft(bbh_test[:,:,0], fs=fs, nperseg=10)\n",
        "bbh_test_stft = abs(bbh_test_stft)\n",
        "\n",
        "##--sglf_psd--##\n",
        "f,t,sglf_train_stft = stft(sglf_train[:,:,0], fs=fs, nperseg=10)\n",
        "sglf_train_stft = abs(sglf_train_stft)\n",
        "f,t,sglf_test_stft = stft(sglf_test[:,:,0], fs=fs, nperseg=10)\n",
        "sglf_test_stft = abs(sglf_test_stft)\n",
        "\n",
        "##--signal_test_dat_psd--##\n",
        "f,t,signal_test_data_stft = stft(signal_test_data[:,:,0],fs=fs,nperseg=10)\n",
        "# signal_test_data_stft = abs(signal_test_data_stft)\n",
        "f,t,background_test_data_stft = stft(background_test_data[:,:,0],fs=fs,nperseg=10)\n",
        "# background_test_data_stft = abs(background_test_data_stft)\n"
      ],
      "metadata": {
        "id": "LZIjpk10wq4O"
      },
      "execution_count": 132,
      "outputs": []
    },
    {
      "cell_type": "code",
      "source": [
        "# sample = np.abs(bg_train_stft[-3])  # shape (freqs, time)\n",
        "# plt.pcolormesh(t, f, np.log10(sample + 1e-12), shading='gouraud')\n",
        "\n",
        "# # Then plot\n",
        "# plt.pcolormesh(t, f, sample, shading='gouraud')\n",
        "# plt.colorbar(label=\"|Zx * conj(Zy)|\")\n",
        "# plt.ylabel(\"Frequency [Hz]\")\n",
        "# plt.xlabel(\"Time [s]\")\n",
        "# plt.title(\"Cross STFT Magnitude\")\n",
        "# plt.tight_layout()\n",
        "# plt.show()"
      ],
      "metadata": {
        "id": "3CpzuKJ4ZcxU"
      },
      "execution_count": 133,
      "outputs": []
    },
    {
      "cell_type": "markdown",
      "metadata": {
        "id": "nSS8Jm0_fnjR"
      },
      "source": [
        "SOLUTION GIVEN"
      ]
    },
    {
      "cell_type": "code",
      "execution_count": 134,
      "metadata": {
        "id": "Gdzk8vpMfnjS",
        "collapsed": true
      },
      "outputs": [],
      "source": [
        "tf.config.experimental.enable_op_determinism()\n",
        "\n",
        "class Autoencoder:\n",
        "    def __init__(self, input_shape=(200,3),stft_shape=(6,41), dropout=0.1, batch_size = 256, epochs = 50, lr = 1e-3,\n",
        "                 f1=3,f2=16,f3=32,f4=64,k1=16,k2=32,k3=64,k4=128,s1=2,s2=2,s3=1,s4=1):\n",
        "        super().__init__()\n",
        "        self.input_shape = input_shape\n",
        "        self.stft_shape = stft_shape\n",
        "        self.f1 = f1\n",
        "        self.f2 = f2\n",
        "        self.f3 = f3\n",
        "        self.k1 = k1\n",
        "        self.k2 = k2\n",
        "        self.k3 = k3\n",
        "        self.s1 = s1\n",
        "        self.s2 = s2\n",
        "        self.s3 = s3\n",
        "        self.f4 = f4\n",
        "        self.k4 = k4\n",
        "        self.s4 = s4\n",
        "        self.dropout = dropout\n",
        "        self.batch_size = batch_size\n",
        "        self.epochs = epochs\n",
        "        self.lr = lr\n",
        "        self.model_ = None\n",
        "\n",
        "    def positional_encoding(self, inputs):\n",
        "        embed_size = inputs.shape[-1]\n",
        "        input_length = inputs.shape[-2]\n",
        "        assert embed_size % 2 == 0, 'embed_size must be even'\n",
        "        p, i = np.meshgrid(np.arange(input_length), np.arange(embed_size // 2))\n",
        "        pos_emb = np.empty((1,input_length, embed_size))\n",
        "        pos_emb[0,:,::2] = np.sin(p/(10000**(2*i/embed_size))).T\n",
        "        pos_emb[0,:,1::2] = np.cos(p/(10000**(2*i/embed_size))).T\n",
        "        self.pos_encoding = tf.constant(pos_emb.astype(np.float32))\n",
        "        return inputs + self.pos_encoding[:, :input_length, :]\n",
        "\n",
        "    def build_model(self):\n",
        "        inputs = keras.Input(shape=self.input_shape)\n",
        "        x = inputs\n",
        "\n",
        "        # Encoder\n",
        "        print('Encoder layer shape')\n",
        "        x = layers.Conv1D(filters=self.f1, kernel_size=self.k1, strides=self.s1, padding=\"same\", activation=\"tanh\")(x)\n",
        "        print(x.shape)\n",
        "        x = layers.Dropout(rate=self.dropout)(x)\n",
        "        x = layers.Conv1D(filters=self.f2, kernel_size=self.k2, strides=self.s2, padding=\"same\")(x)\n",
        "        print(x.shape)\n",
        "        x = layers.Conv1D(filters=self.f3, kernel_size=self.k3, strides=self.s3, padding=\"same\")(x)\n",
        "        print(x.shape)\n",
        "\n",
        "        # Bottleneck\n",
        "        print(\"Bottleneck shape\")\n",
        "        latent_x = layers.Conv1D(filters=self.f4, kernel_size=self.k4, strides=self.s4, padding=\"same\")(x)\n",
        "        print(latent_x.shape)\n",
        "        x = layers.Dropout(rate=self.dropout)(latent_x)\n",
        "\n",
        "        # Decoder Head\n",
        "        print(\"Decoder layer shape\")\n",
        "        x = layers.Conv1DTranspose(filters=self.f3, kernel_size=self.k3, strides=self.s3, padding=\"same\")(x)\n",
        "        print(x.shape)\n",
        "        x = layers.Conv1DTranspose(filters=self.f2, kernel_size=self.k2, strides=self.s2, padding=\"same\")(x)\n",
        "        print(x.shape)\n",
        "        decoder_output = layers.Conv1DTranspose(filters=self.f1, kernel_size=self.k1, strides=1, padding=\"same\")(x)\n",
        "        print(decoder_output.shape)\n",
        "\n",
        "        # STFT Head\n",
        "        print(\"STFT layer shape\")\n",
        "        stft_x = layers.Flatten()(latent_x)\n",
        "        print(stft_x.shape)\n",
        "        stft_x = layers.Dense(self.stft_shape[0]*self.stft_shape[1])(stft_x)\n",
        "        print(stft_x.shape)\n",
        "        stft_x = layers.Reshape((self.stft_shape[0],self.stft_shape[1]))(stft_x)\n",
        "        print(stft_x.shape)\n",
        "        stft_output = layers.Conv1D(filters=self.stft_shape[1], kernel_size=1, strides=1, padding=\"same\")(stft_x)\n",
        "        print(stft_output.shape)\n",
        "\n",
        "\n",
        "        self.model_ = keras.Model(inputs, outputs={\"reconstructed_signal\": decoder_output, \"predicted_stft\": stft_output })\n",
        "        self.model_.compile(loss={\"reconstructed_signal\": \"mse\",\"predicted_stft\": \"mse\"},\n",
        "                            loss_weights={\"reconstructed_signal\": 1,\"predicted_stft\": 0.3},\n",
        "                            optimizer=keras.optimizers.Adam(learning_rate=self.lr))\n",
        "\n",
        "\n",
        "    def predict(self, X):\n",
        "        return self.model_.predict(X, batch_size=self.batch_size)\n"
      ]
    },
    {
      "cell_type": "code",
      "source": [
        "param_set = [\n",
        "    {'batch_size': 256, 'dropout': 0.1, 'epochs': 50, 'f1': 32, 'f2': 16, 'f5': 3, 'k1': 16,  'k2': 32, 'k3': 64, 'k4': 128,  'k5': 5,  'lr': 0.001, 's1': 2, 's2': 2}, #0.978,0.984,0.280, before that(no correlation) 0.658,0.413,0.348\n",
        "    #same feature but adding one more layer at the beginnning to make it symmetry without correlation #(None, 200, 32) (None, 100, 32) (None, 50, 16) (None, 100, 16) (None, 200, 32) (None, 200, 2)  0.942 0.968 0.346 no correlation gives 0.799 0.404 0.322\n",
        "    #its not perfectly symmetric, let me try this\n",
        "    {'batch_size': 256, 'dropout': 0.1, 'epochs': 50, 'f1': 3, 'f2': 8, 'f3': 32, 'f4':128, 'k1': 4,  'k2':8 , 'k3': 16, 'k4':32, 'lr': 0.001, 's1': 1, 's2': 2, 's3':2, 's4':1}\n",
        "\n",
        "\n",
        "]\n",
        "params = param_set[1]\n",
        "AE = Autoencoder(input_shape=(200, 3),stft_shape=bg_train_stft.shape[1:], **params)\n",
        "AE.build_model()\n",
        "AE.model_.fit(background_train,{\"reconstructed_signal\":background_train,\"predicted_stft\":bg_train_stft},epochs=AE.epochs,batch_size=AE.batch_size,validation_split=0.2,verbose=1,callbacks=[EarlyStopping(monitor='val_loss', patience=5, restore_best_weights=True)])"
      ],
      "metadata": {
        "colab": {
          "base_uri": "https://localhost:8080/"
        },
        "collapsed": true,
        "id": "2l7-4gaaEdMz",
        "outputId": "ee8025d8-e286-4a34-9d3c-c195a76f65f0"
      },
      "execution_count": 135,
      "outputs": [
        {
          "output_type": "stream",
          "name": "stdout",
          "text": [
            "Encoder layer shape\n",
            "(None, 200, 3)\n",
            "(None, 100, 8)\n",
            "(None, 50, 32)\n",
            "Bottleneck shape\n",
            "(None, 50, 128)\n",
            "Decoder layer shape\n",
            "(None, 100, 32)\n",
            "(None, 200, 8)\n",
            "(None, 200, 3)\n",
            "STFT layer shape\n",
            "(None, 6400)\n",
            "(None, 246)\n",
            "(None, 6, 41)\n",
            "(None, 6, 41)\n",
            "Epoch 1/50\n"
          ]
        },
        {
          "output_type": "stream",
          "name": "stderr",
          "text": [
            "WARNING:tensorflow:You are casting an input of type complex128 to an incompatible dtype float32.  This will discard the imaginary part and may not be what you intended.\n",
            "WARNING:tensorflow:You are casting an input of type complex128 to an incompatible dtype float32.  This will discard the imaginary part and may not be what you intended.\n"
          ]
        },
        {
          "output_type": "stream",
          "name": "stdout",
          "text": [
            "\u001b[1m250/250\u001b[0m \u001b[32m━━━━━━━━━━━━━━━━━━━━\u001b[0m\u001b[37m\u001b[0m \u001b[1m0s\u001b[0m 17ms/step - loss: 34.8408 - predicted_stft_loss: 0.1237 - reconstructed_signal_loss: 34.8037"
          ]
        },
        {
          "output_type": "stream",
          "name": "stderr",
          "text": [
            "WARNING:tensorflow:You are casting an input of type complex128 to an incompatible dtype float32.  This will discard the imaginary part and may not be what you intended.\n"
          ]
        },
        {
          "output_type": "stream",
          "name": "stdout",
          "text": [
            "\b\b\b\b\b\b\b\b\b\b\b\b\b\b\b\b\b\b\b\b\b\b\b\b\b\b\b\b\b\b\b\b\b\b\b\b\b\b\b\b\b\b\b\b\b\b\b\b\b\b\b\b\b\b\b\b\b\b\b\b\b\b\b\b\b\b\b\b\b\b\b\b\b\b\b\b\b\b\b\b\b\b\b\b\b\b\b\b\b\b\b\b\b\b\b\b\b\b\b\b\b\b\b\b\b\b\b\b\b\b\b\b\b\b\b\b\b\b\b\b\b\b\b\b\r\u001b[1m250/250\u001b[0m \u001b[32m━━━━━━━━━━━━━━━━━━━━\u001b[0m\u001b[37m\u001b[0m \u001b[1m9s\u001b[0m 21ms/step - loss: 34.7928 - predicted_stft_loss: 0.1236 - reconstructed_signal_loss: 34.7557 - val_loss: 11.1108 - val_predicted_stft_loss: 0.0928 - val_reconstructed_signal_loss: 11.0851\n",
            "Epoch 2/50\n",
            "\u001b[1m250/250\u001b[0m \u001b[32m━━━━━━━━━━━━━━━━━━━━\u001b[0m\u001b[37m\u001b[0m \u001b[1m10s\u001b[0m 20ms/step - loss: 12.2364 - predicted_stft_loss: 0.0913 - reconstructed_signal_loss: 12.2090 - val_loss: 3.3448 - val_predicted_stft_loss: 0.0895 - val_reconstructed_signal_loss: 3.3186\n",
            "Epoch 3/50\n",
            "\u001b[1m250/250\u001b[0m \u001b[32m━━━━━━━━━━━━━━━━━━━━\u001b[0m\u001b[37m\u001b[0m \u001b[1m5s\u001b[0m 19ms/step - loss: 5.9860 - predicted_stft_loss: 0.0893 - reconstructed_signal_loss: 5.9592 - val_loss: 2.2337 - val_predicted_stft_loss: 0.0894 - val_reconstructed_signal_loss: 2.2074\n",
            "Epoch 4/50\n",
            "\u001b[1m250/250\u001b[0m \u001b[32m━━━━━━━━━━━━━━━━━━━━\u001b[0m\u001b[37m\u001b[0m \u001b[1m5s\u001b[0m 21ms/step - loss: 5.5638 - predicted_stft_loss: 0.0893 - reconstructed_signal_loss: 5.5370 - val_loss: 2.0656 - val_predicted_stft_loss: 0.0895 - val_reconstructed_signal_loss: 2.0391\n",
            "Epoch 5/50\n",
            "\u001b[1m250/250\u001b[0m \u001b[32m━━━━━━━━━━━━━━━━━━━━\u001b[0m\u001b[37m\u001b[0m \u001b[1m10s\u001b[0m 20ms/step - loss: 4.6532 - predicted_stft_loss: 0.0892 - reconstructed_signal_loss: 4.6265 - val_loss: 1.3778 - val_predicted_stft_loss: 0.0894 - val_reconstructed_signal_loss: 1.3512\n",
            "Epoch 6/50\n",
            "\u001b[1m250/250\u001b[0m \u001b[32m━━━━━━━━━━━━━━━━━━━━\u001b[0m\u001b[37m\u001b[0m \u001b[1m10s\u001b[0m 20ms/step - loss: 3.8907 - predicted_stft_loss: 0.0892 - reconstructed_signal_loss: 3.8640 - val_loss: 1.2512 - val_predicted_stft_loss: 0.0894 - val_reconstructed_signal_loss: 1.2246\n",
            "Epoch 7/50\n",
            "\u001b[1m250/250\u001b[0m \u001b[32m━━━━━━━━━━━━━━━━━━━━\u001b[0m\u001b[37m\u001b[0m \u001b[1m5s\u001b[0m 19ms/step - loss: 3.8057 - predicted_stft_loss: 0.0892 - reconstructed_signal_loss: 3.7789 - val_loss: 1.1551 - val_predicted_stft_loss: 0.0893 - val_reconstructed_signal_loss: 1.1285\n",
            "Epoch 8/50\n",
            "\u001b[1m250/250\u001b[0m \u001b[32m━━━━━━━━━━━━━━━━━━━━\u001b[0m\u001b[37m\u001b[0m \u001b[1m5s\u001b[0m 19ms/step - loss: 3.6717 - predicted_stft_loss: 0.0888 - reconstructed_signal_loss: 3.6451 - val_loss: 1.0666 - val_predicted_stft_loss: 0.0888 - val_reconstructed_signal_loss: 1.0401\n",
            "Epoch 9/50\n",
            "\u001b[1m250/250\u001b[0m \u001b[32m━━━━━━━━━━━━━━━━━━━━\u001b[0m\u001b[37m\u001b[0m \u001b[1m5s\u001b[0m 19ms/step - loss: 3.0314 - predicted_stft_loss: 0.0884 - reconstructed_signal_loss: 3.0049 - val_loss: 0.8401 - val_predicted_stft_loss: 0.0860 - val_reconstructed_signal_loss: 0.8144\n",
            "Epoch 10/50\n",
            "\u001b[1m250/250\u001b[0m \u001b[32m━━━━━━━━━━━━━━━━━━━━\u001b[0m\u001b[37m\u001b[0m \u001b[1m5s\u001b[0m 19ms/step - loss: 2.9548 - predicted_stft_loss: 0.0856 - reconstructed_signal_loss: 2.9291 - val_loss: 0.7437 - val_predicted_stft_loss: 0.0805 - val_reconstructed_signal_loss: 0.7195\n",
            "Epoch 11/50\n",
            "\u001b[1m250/250\u001b[0m \u001b[32m━━━━━━━━━━━━━━━━━━━━\u001b[0m\u001b[37m\u001b[0m \u001b[1m5s\u001b[0m 18ms/step - loss: 2.8935 - predicted_stft_loss: 0.0813 - reconstructed_signal_loss: 2.8692 - val_loss: 0.7089 - val_predicted_stft_loss: 0.0737 - val_reconstructed_signal_loss: 0.6868\n",
            "Epoch 12/50\n",
            "\u001b[1m250/250\u001b[0m \u001b[32m━━━━━━━━━━━━━━━━━━━━\u001b[0m\u001b[37m\u001b[0m \u001b[1m5s\u001b[0m 20ms/step - loss: 2.8731 - predicted_stft_loss: 0.0764 - reconstructed_signal_loss: 2.8502 - val_loss: 0.6918 - val_predicted_stft_loss: 0.0671 - val_reconstructed_signal_loss: 0.6717\n",
            "Epoch 13/50\n",
            "\u001b[1m250/250\u001b[0m \u001b[32m━━━━━━━━━━━━━━━━━━━━\u001b[0m\u001b[37m\u001b[0m \u001b[1m5s\u001b[0m 19ms/step - loss: 2.8591 - predicted_stft_loss: 0.0719 - reconstructed_signal_loss: 2.8375 - val_loss: 0.6339 - val_predicted_stft_loss: 0.0614 - val_reconstructed_signal_loss: 0.6155\n",
            "Epoch 14/50\n",
            "\u001b[1m250/250\u001b[0m \u001b[32m━━━━━━━━━━━━━━━━━━━━\u001b[0m\u001b[37m\u001b[0m \u001b[1m5s\u001b[0m 19ms/step - loss: 2.8378 - predicted_stft_loss: 0.0675 - reconstructed_signal_loss: 2.8176 - val_loss: 0.6545 - val_predicted_stft_loss: 0.0542 - val_reconstructed_signal_loss: 0.6382\n",
            "Epoch 15/50\n",
            "\u001b[1m250/250\u001b[0m \u001b[32m━━━━━━━━━━━━━━━━━━━━\u001b[0m\u001b[37m\u001b[0m \u001b[1m5s\u001b[0m 19ms/step - loss: 2.8286 - predicted_stft_loss: 0.0633 - reconstructed_signal_loss: 2.8096 - val_loss: 0.6330 - val_predicted_stft_loss: 0.0477 - val_reconstructed_signal_loss: 0.6187\n",
            "Epoch 16/50\n",
            "\u001b[1m250/250\u001b[0m \u001b[32m━━━━━━━━━━━━━━━━━━━━\u001b[0m\u001b[37m\u001b[0m \u001b[1m5s\u001b[0m 18ms/step - loss: 2.8190 - predicted_stft_loss: 0.0588 - reconstructed_signal_loss: 2.8014 - val_loss: 0.6043 - val_predicted_stft_loss: 0.0425 - val_reconstructed_signal_loss: 0.5915\n",
            "Epoch 17/50\n",
            "\u001b[1m250/250\u001b[0m \u001b[32m━━━━━━━━━━━━━━━━━━━━\u001b[0m\u001b[37m\u001b[0m \u001b[1m6s\u001b[0m 20ms/step - loss: 2.8118 - predicted_stft_loss: 0.0548 - reconstructed_signal_loss: 2.7954 - val_loss: 0.5999 - val_predicted_stft_loss: 0.0364 - val_reconstructed_signal_loss: 0.5890\n",
            "Epoch 18/50\n",
            "\u001b[1m250/250\u001b[0m \u001b[32m━━━━━━━━━━━━━━━━━━━━\u001b[0m\u001b[37m\u001b[0m \u001b[1m5s\u001b[0m 18ms/step - loss: 2.8097 - predicted_stft_loss: 0.0509 - reconstructed_signal_loss: 2.7944 - val_loss: 0.6375 - val_predicted_stft_loss: 0.0313 - val_reconstructed_signal_loss: 0.6281\n",
            "Epoch 19/50\n",
            "\u001b[1m250/250\u001b[0m \u001b[32m━━━━━━━━━━━━━━━━━━━━\u001b[0m\u001b[37m\u001b[0m \u001b[1m5s\u001b[0m 18ms/step - loss: 2.7950 - predicted_stft_loss: 0.0474 - reconstructed_signal_loss: 2.7808 - val_loss: 0.6124 - val_predicted_stft_loss: 0.0277 - val_reconstructed_signal_loss: 0.6041\n",
            "Epoch 20/50\n",
            "\u001b[1m250/250\u001b[0m \u001b[32m━━━━━━━━━━━━━━━━━━━━\u001b[0m\u001b[37m\u001b[0m \u001b[1m5s\u001b[0m 20ms/step - loss: 2.7905 - predicted_stft_loss: 0.0450 - reconstructed_signal_loss: 2.7770 - val_loss: 0.5513 - val_predicted_stft_loss: 0.0261 - val_reconstructed_signal_loss: 0.5435\n",
            "Epoch 21/50\n",
            "\u001b[1m250/250\u001b[0m \u001b[32m━━━━━━━━━━━━━━━━━━━━\u001b[0m\u001b[37m\u001b[0m \u001b[1m5s\u001b[0m 18ms/step - loss: 2.7929 - predicted_stft_loss: 0.0432 - reconstructed_signal_loss: 2.7799 - val_loss: 0.5819 - val_predicted_stft_loss: 0.0240 - val_reconstructed_signal_loss: 0.5747\n",
            "Epoch 22/50\n",
            "\u001b[1m250/250\u001b[0m \u001b[32m━━━━━━━━━━━━━━━━━━━━\u001b[0m\u001b[37m\u001b[0m \u001b[1m5s\u001b[0m 19ms/step - loss: 2.7901 - predicted_stft_loss: 0.0419 - reconstructed_signal_loss: 2.7776 - val_loss: 0.5819 - val_predicted_stft_loss: 0.0228 - val_reconstructed_signal_loss: 0.5751\n",
            "Epoch 23/50\n",
            "\u001b[1m250/250\u001b[0m \u001b[32m━━━━━━━━━━━━━━━━━━━━\u001b[0m\u001b[37m\u001b[0m \u001b[1m5s\u001b[0m 20ms/step - loss: 2.7858 - predicted_stft_loss: 0.0407 - reconstructed_signal_loss: 2.7736 - val_loss: 0.6215 - val_predicted_stft_loss: 0.0209 - val_reconstructed_signal_loss: 0.6153\n",
            "Epoch 24/50\n",
            "\u001b[1m250/250\u001b[0m \u001b[32m━━━━━━━━━━━━━━━━━━━━\u001b[0m\u001b[37m\u001b[0m \u001b[1m5s\u001b[0m 19ms/step - loss: 2.7851 - predicted_stft_loss: 0.0403 - reconstructed_signal_loss: 2.7730 - val_loss: 0.5449 - val_predicted_stft_loss: 0.0206 - val_reconstructed_signal_loss: 0.5388\n",
            "Epoch 25/50\n",
            "\u001b[1m250/250\u001b[0m \u001b[32m━━━━━━━━━━━━━━━━━━━━\u001b[0m\u001b[37m\u001b[0m \u001b[1m5s\u001b[0m 20ms/step - loss: 2.7903 - predicted_stft_loss: 0.0398 - reconstructed_signal_loss: 2.7784 - val_loss: 0.5609 - val_predicted_stft_loss: 0.0202 - val_reconstructed_signal_loss: 0.5548\n",
            "Epoch 26/50\n",
            "\u001b[1m250/250\u001b[0m \u001b[32m━━━━━━━━━━━━━━━━━━━━\u001b[0m\u001b[37m\u001b[0m \u001b[1m5s\u001b[0m 18ms/step - loss: 2.7830 - predicted_stft_loss: 0.0394 - reconstructed_signal_loss: 2.7711 - val_loss: 0.5701 - val_predicted_stft_loss: 0.0196 - val_reconstructed_signal_loss: 0.5642\n",
            "Epoch 27/50\n",
            "\u001b[1m250/250\u001b[0m \u001b[32m━━━━━━━━━━━━━━━━━━━━\u001b[0m\u001b[37m\u001b[0m \u001b[1m5s\u001b[0m 19ms/step - loss: 2.7806 - predicted_stft_loss: 0.0390 - reconstructed_signal_loss: 2.7689 - val_loss: 0.5561 - val_predicted_stft_loss: 0.0196 - val_reconstructed_signal_loss: 0.5502\n",
            "Epoch 28/50\n",
            "\u001b[1m250/250\u001b[0m \u001b[32m━━━━━━━━━━━━━━━━━━━━\u001b[0m\u001b[37m\u001b[0m \u001b[1m5s\u001b[0m 21ms/step - loss: 2.7744 - predicted_stft_loss: 0.0391 - reconstructed_signal_loss: 2.7627 - val_loss: 0.5856 - val_predicted_stft_loss: 0.0187 - val_reconstructed_signal_loss: 0.5800\n",
            "Epoch 29/50\n",
            "\u001b[1m250/250\u001b[0m \u001b[32m━━━━━━━━━━━━━━━━━━━━\u001b[0m\u001b[37m\u001b[0m \u001b[1m5s\u001b[0m 18ms/step - loss: 2.7732 - predicted_stft_loss: 0.0387 - reconstructed_signal_loss: 2.7616 - val_loss: 0.6130 - val_predicted_stft_loss: 0.0193 - val_reconstructed_signal_loss: 0.6072\n"
          ]
        },
        {
          "output_type": "execute_result",
          "data": {
            "text/plain": [
              "<keras.src.callbacks.history.History at 0x7f6235047210>"
            ]
          },
          "metadata": {},
          "execution_count": 135
        }
      ]
    },
    {
      "cell_type": "code",
      "source": [
        "signal_test_data_stft"
      ],
      "metadata": {
        "id": "ttc3gFXBsP4o",
        "outputId": "1bea2ed5-0396-4db3-8973-44f9c809ef38",
        "colab": {
          "base_uri": "https://localhost:8080/"
        }
      },
      "execution_count": 136,
      "outputs": [
        {
          "output_type": "execute_result",
          "data": {
            "text/plain": [
              "array([[[-0.11037654+0.00000000e+00j,  0.45128176+0.00000000e+00j,\n",
              "          0.10852316+0.00000000e+00j, ..., -0.07021052+0.00000000e+00j,\n",
              "         -0.17115874+0.00000000e+00j, -0.03557257+0.00000000e+00j],\n",
              "        [ 0.06036347-1.12520473e-01j, -0.40033147+3.19583981e-01j,\n",
              "          0.04136127-3.72891344e-03j, ..., -0.17290788-3.19168458e-01j,\n",
              "         -0.14151257+5.57697707e-01j,  0.04260226+2.89068788e-02j],\n",
              "        [-0.00156938+1.88318343e-01j,  0.27019451-4.63764357e-01j,\n",
              "         -0.1381098 -6.41920574e-02j, ...,  0.18362365-6.43892272e-02j,\n",
              "          0.61747953-5.19461905e-01j,  0.01362232-5.96302955e-02j],\n",
              "        [-0.15606293-2.54290840e-01j, -0.23802437+5.54386920e-01j,\n",
              "          0.23666217+3.09773006e-02j, ...,  0.27003384+8.88470667e-02j,\n",
              "         -0.59503013+1.70700522e-02j, -0.04565937-4.79131362e-05j],\n",
              "        [ 0.31187181+1.31637328e-01j,  0.17491353-3.49024921e-01j,\n",
              "         -0.24214617-5.23990470e-02j, ..., -0.28036207+1.36302873e-01j,\n",
              "          0.22894634+2.09438092e-01j,  0.00416396+1.90433737e-02j],\n",
              "        [-0.31882939+0.00000000e+00j, -0.06478617+0.00000000e+00j,\n",
              "          0.09594188+0.00000000e+00j, ...,  0.06943545+0.00000000e+00j,\n",
              "         -0.0486076 +0.00000000e+00j,  0.00611421+0.00000000e+00j]],\n",
              "\n",
              "       [[ 0.05927984+0.00000000e+00j,  0.56373022+0.00000000e+00j,\n",
              "         -0.34201928+0.00000000e+00j, ..., -0.44391539+0.00000000e+00j,\n",
              "         -0.43786009+0.00000000e+00j, -0.45280085+0.00000000e+00j],\n",
              "        [ 0.20573885+2.13637024e-01j, -0.25669896-3.99536162e-01j,\n",
              "          0.27381009-7.96852824e-02j, ...,  0.3621748 -7.70703274e-01j,\n",
              "          0.10152114+4.25274607e-01j,  0.44368799+2.66341976e-01j],\n",
              "        [-0.33784117+2.97916576e-02j, -0.2429579 +4.82854549e-01j,\n",
              "         -0.10822315-2.11801429e-01j, ..., -0.03494289+5.50925116e-01j,\n",
              "         -0.23022716-2.54353244e-01j, -0.13933128-5.75131869e-01j],\n",
              "        [ 0.18587708-1.03594824e-01j,  0.2030311 -4.94005584e-01j,\n",
              "         -0.07092334+4.51986309e-01j, ..., -0.27841355-2.20561064e-01j,\n",
              "          0.50779854-1.17409845e-01j, -0.3342694 +4.29824553e-01j],\n",
              "        [-0.12584025+6.50712609e-02j,  0.0355452 +3.09968661e-01j,\n",
              "          0.12319086-1.67524345e-01j, ...,  0.16766451+1.44594361e-01j,\n",
              "         -0.11327929+1.52872678e-01j,  0.36573171-4.19910540e-02j],\n",
              "        [ 0.08485114+0.00000000e+00j, -0.04156912+0.00000000e+00j,\n",
              "         -0.09368961+0.00000000e+00j, ...,  0.01094965+0.00000000e+00j,\n",
              "         -0.09376637+0.00000000e+00j, -0.21883718+0.00000000e+00j]],\n",
              "\n",
              "       [[-0.16245653+0.00000000e+00j,  0.49672421+0.00000000e+00j,\n",
              "         -0.04517412+0.00000000e+00j, ..., -1.11292165+0.00000000e+00j,\n",
              "         -0.46941075+0.00000000e+00j,  0.12596776+0.00000000e+00j],\n",
              "        [ 0.06092448-1.70924970e-01j, -0.29046849+2.62494998e-01j,\n",
              "          0.18900142-6.59138462e-01j, ...,  0.58165288+3.36411538e-02j,\n",
              "          0.32030797+6.56880714e-01j,  0.01993793-9.79580324e-02j],\n",
              "        [ 0.17242049+1.13791425e-01j,  0.01715545+2.82072530e-01j,\n",
              "         -0.26869302+4.45307409e-01j, ...,  0.00413659-1.63792396e-01j,\n",
              "         -0.25925832-5.62742680e-01j, -0.03467982-5.48024381e-02j],\n",
              "        [-0.13397021+1.35670758e-01j,  0.04977169-5.40096408e-01j,\n",
              "          0.08038853+4.84738362e-02j, ..., -0.05791253+1.04604385e-01j,\n",
              "          0.33473278+1.89121839e-01j, -0.10414406-1.84924910e-02j],\n",
              "        [-0.06985117-1.17795974e-01j, -0.03173817+1.96250640e-01j,\n",
              "          0.03379332-9.08257328e-02j, ...,  0.03426017-4.08926880e-02j,\n",
              "         -0.1638588 +3.74639435e-02j, -0.02830406+1.49738251e-01j],\n",
              "        [ 0.10340935+0.00000000e+00j,  0.01383481+0.00000000e+00j,\n",
              "         -0.02380638+0.00000000e+00j, ..., -0.01135257+0.00000000e+00j,\n",
              "          0.00556347+0.00000000e+00j,  0.16841226+0.00000000e+00j]],\n",
              "\n",
              "       ...,\n",
              "\n",
              "       [[-0.16821667+0.00000000e+00j,  0.21668071+0.00000000e+00j,\n",
              "         -0.45590969+0.00000000e+00j, ..., -0.29808651+0.00000000e+00j,\n",
              "          0.11801028+0.00000000e+00j, -0.13080118+0.00000000e+00j],\n",
              "        [ 0.09470982-1.08482731e-02j, -0.17482283+3.16253489e-01j,\n",
              "          0.50061784-1.13964314e-01j, ...,  0.32916482+2.82161030e-01j,\n",
              "         -0.11752871-3.32207676e-01j, -0.00638635+1.44025393e-01j],\n",
              "        [-0.12324609-1.22303074e-01j,  0.13781009-2.45580015e-01j,\n",
              "         -0.41381875-1.69781459e-01j, ..., -0.18109684-8.18412604e-02j,\n",
              "          0.02705285+1.41022687e-01j,  0.16622324-1.79568003e-02j],\n",
              "        [ 0.2835876 +8.16029093e-02j, -0.22795272-1.19850316e-01j,\n",
              "          0.24512526+3.54753172e-01j, ...,  0.09045553-1.62917732e-01j,\n",
              "          0.11715361+8.99402468e-02j, -0.07593202-1.60020420e-01j],\n",
              "        [-0.23908768+6.32219091e-02j,  0.17082306+1.46028986e-01j,\n",
              "         -0.09108683-1.35179893e-01j, ..., -0.12121905+4.48297309e-02j,\n",
              "         -0.11064715+4.68528963e-03j, -0.10082266+1.37973321e-01j],\n",
              "        [ 0.13628939+0.00000000e+00j, -0.02839593+0.00000000e+00j,\n",
              "         -0.02576536+0.00000000e+00j, ...,  0.06347759+0.00000000e+00j,\n",
              "          0.04992853+0.00000000e+00j,  0.16463674+0.00000000e+00j]],\n",
              "\n",
              "       [[-0.02190806+0.00000000e+00j, -0.22523088+0.00000000e+00j,\n",
              "         -0.44816007+0.00000000e+00j, ...,  0.95986902+0.00000000e+00j,\n",
              "          0.0323125 +0.00000000e+00j,  0.06985887+0.00000000e+00j],\n",
              "        [ 0.10720725+9.05954064e-02j,  0.23754428-1.53990070e-01j,\n",
              "          0.54200628+2.83466296e-01j, ..., -0.51769236-1.74643292e-02j,\n",
              "          0.1316309 -3.04215380e-01j, -0.06491647-6.87168382e-02j],\n",
              "        [-0.23446611+1.13237858e-02j, -0.18083989+2.12567576e-02j,\n",
              "         -0.63613053-1.79237646e-01j, ...,  0.03194092-2.40823627e-01j,\n",
              "         -0.1117665 +4.27626377e-01j, -0.06352522+9.84933743e-02j],\n",
              "        [ 0.13055913-1.79822706e-01j, -0.12625831+1.22137474e-01j,\n",
              "          0.51448098+1.73779059e-01j, ...,  0.12561346+4.35784674e-01j,\n",
              "         -0.00977305-4.50123988e-01j,  0.09305734+5.07079898e-02j],\n",
              "        [ 0.04247484+1.19838028e-01j,  0.21406913-1.40254960e-01j,\n",
              "         -0.22226969-1.60218195e-01j, ..., -0.13856324-3.17199148e-01j,\n",
              "         -0.0649681 +1.78303946e-01j,  0.02859579-6.89687527e-02j],\n",
              "        [-0.06964218+0.00000000e+00j, -0.06379953+0.00000000e+00j,\n",
              "          0.051986  +0.00000000e+00j, ...,  0.03753345+0.00000000e+00j,\n",
              "          0.077441  +0.00000000e+00j, -0.05628175+0.00000000e+00j]],\n",
              "\n",
              "       [[-0.01286029+0.00000000e+00j,  1.153028  +0.00000000e+00j,\n",
              "          0.83336136+0.00000000e+00j, ...,  0.48566961+0.00000000e+00j,\n",
              "         -0.41227084+0.00000000e+00j, -0.1121338 +0.00000000e+00j],\n",
              "        [ 0.22597468+2.20888751e-01j, -0.71276823-1.32091887e-02j,\n",
              "         -0.57592141-2.61471359e-01j, ..., -0.36476936+3.89946866e-01j,\n",
              "          0.49256072-5.64616539e-01j, -0.02102457+6.18340844e-02j],\n",
              "        [-0.38453766-8.44170816e-02j,  0.23043272+1.63513255e-02j,\n",
              "          0.23524673+2.50468077e-01j, ...,  0.02593129-3.20122924e-01j,\n",
              "         -0.27556145+5.99353949e-01j, -0.04719746+5.05809848e-02j],\n",
              "        [ 0.34602542+1.26831843e-02j, -0.05182823+5.07581113e-02j,\n",
              "         -0.10316638-3.36770516e-01j, ...,  0.05104443+2.38659075e-01j,\n",
              "         -0.1595572 -4.98271235e-01j,  0.08763534+1.23913965e-01j],\n",
              "        [-0.33022346+1.18816782e-02j, -0.08066355+2.13371648e-02j,\n",
              "          0.03514844+2.22584508e-01j, ...,  0.06090804+1.02297791e-03j,\n",
              "          0.20869863+2.56477092e-01j,  0.10326437-1.20156306e-01j],\n",
              "        [ 0.29838233+0.00000000e+00j,  0.07662656+0.00000000e+00j,\n",
              "         -0.01597611+0.00000000e+00j, ..., -0.03189841+0.00000000e+00j,\n",
              "         -0.12001057+0.00000000e+00j, -0.13322154+0.00000000e+00j]]])"
            ]
          },
          "metadata": {},
          "execution_count": 136
        }
      ]
    },
    {
      "cell_type": "code",
      "source": [
        "test_pred = AE.predict(signal_test_data)['predicted_stft']\n",
        "bg_pred = AE.predict(background_test_data)['predicted_stft']\n",
        "test_mse = np.mean((test_pred - abs(signal_test_data_stft))**2,axis=(1,2))\n",
        "bg_mse = np.mean((bg_pred - abs(background_test_data_stft))**2,axis=(1,2))\n",
        "test_result = np.concatenate([bg_mse,test_mse])\n",
        "true = np.concatenate([np.zeros(bg_pred.shape[0]),np.ones(test_pred.shape[0])])\n",
        "# print(min(test_mse),max(test_mse),np.mean(test_mse))\n",
        "# print(min(bg_mse),max(bg_mse),np.mean(bg_mse))\n",
        "\n",
        "fpr, tpr, thresholds = roc_curve(true, test_result)\n",
        "auc_sg = roc_auc_score(true, test_result)\n",
        "plt.plot(fpr, tpr,label=f'AUC = {auc_sg:.3f}')\n",
        "plt.xlabel(\"False Positive Rate\")\n",
        "plt.ylabel(\"True Positive Rate\")\n",
        "plt.title(\"ROC Curve\")\n",
        "plt.grid(True)\n",
        "plt.legend()\n",
        "plt.show()"
      ],
      "metadata": {
        "colab": {
          "base_uri": "https://localhost:8080/",
          "height": 507
        },
        "id": "9nemGU5liEPC",
        "outputId": "5c02857e-87b4-476c-d126-a6d886bee0b7"
      },
      "execution_count": 137,
      "outputs": [
        {
          "output_type": "stream",
          "name": "stdout",
          "text": [
            "\u001b[1m40/40\u001b[0m \u001b[32m━━━━━━━━━━━━━━━━━━━━\u001b[0m\u001b[37m\u001b[0m \u001b[1m1s\u001b[0m 9ms/step\n",
            "\u001b[1m196/196\u001b[0m \u001b[32m━━━━━━━━━━━━━━━━━━━━\u001b[0m\u001b[37m\u001b[0m \u001b[1m1s\u001b[0m 4ms/step\n"
          ]
        },
        {
          "output_type": "display_data",
          "data": {
            "text/plain": [
              "<Figure size 640x480 with 1 Axes>"
            ],
            "image/png": "[encoded data removed]"
          },
          "metadata": {}
        }
      ]
    },
    {
      "cell_type": "code",
      "source": [
        "bg_mse"
      ],
      "metadata": {
        "id": "GKYkw8XJrIbX",
        "outputId": "399460ea-d667-440d-ab87-bb1e9da7c82d",
        "colab": {
          "base_uri": "https://localhost:8080/"
        }
      },
      "execution_count": 138,
      "outputs": [
        {
          "output_type": "execute_result",
          "data": {
            "text/plain": [
              "array([0.16235432, 0.16863161, 0.15032285, ..., 0.16232029, 0.15762365,\n",
              "       0.15868848])"
            ]
          },
          "metadata": {},
          "execution_count": 138
        }
      ]
    },
    {
      "cell_type": "code",
      "source": [
        "bbh_pred = AE.predict(bbh_test)['predicted_stft']\n",
        "bg_pred = AE.predict(background_test)['predicted_stft']\n",
        "bbh_mse = np.mean((bbh_pred - abs(bbh_test_stft))**2, axis=(1,2))\n",
        "bg_mse = np.mean((bg_pred - abs(bg_test_stft))**2, axis=(1,2))\n",
        "test_result = np.concatenate([bg_mse,bbh_mse])\n",
        "true = np.concatenate([np.zeros(bg_pred.shape[0]),np.ones(bbh_pred.shape[0])])\n",
        "print(min(bbh_mse),max(bbh_mse),np.mean(bbh_mse))\n",
        "print(min(bg_mse),max(bg_mse),np.mean(bg_mse))\n",
        "\n",
        "fpr, tpr, thresholds = roc_curve(true, test_result)\n",
        "auc_bbh = roc_auc_score(true, test_result)\n",
        "plt.plot(fpr, tpr,label=f'AUC = {auc_bbh:.3f}')\n",
        "plt.xlabel(\"False Positive Rate\")\n",
        "plt.ylabel(\"True Positive Rate\")\n",
        "plt.title(\"ROC Curve\")\n",
        "plt.grid(True)\n",
        "plt.legend()\n",
        "plt.show()"
      ],
      "metadata": {
        "colab": {
          "base_uri": "https://localhost:8080/",
          "height": 541
        },
        "id": "blmzhTGZH4KJ",
        "outputId": "d2eca749-a821-43dc-b70b-61692d31cd77"
      },
      "execution_count": 139,
      "outputs": [
        {
          "output_type": "stream",
          "name": "stdout",
          "text": [
            "\u001b[1m79/79\u001b[0m \u001b[32m━━━━━━━━━━━━━━━━━━━━\u001b[0m\u001b[37m\u001b[0m \u001b[1m1s\u001b[0m 5ms/step\n",
            "\u001b[1m79/79\u001b[0m \u001b[32m━━━━━━━━━━━━━━━━━━━━\u001b[0m\u001b[37m\u001b[0m \u001b[1m0s\u001b[0m 5ms/step\n",
            "0.14249633716457058 0.29301462247469423 0.18384119633526147\n",
            "0.1419612379156429 0.2880881649160666 0.1702899320979886\n"
          ]
        },
        {
          "output_type": "display_data",
          "data": {
            "text/plain": [
              "<Figure size 640x480 with 1 Axes>"
            ],
            "image/png": "[encoded data removed]"
          },
          "metadata": {}
        }
      ]
    },
    {
      "cell_type": "code",
      "source": [
        "sglf_pred = AE.predict(sglf_test)['predicted_stft']\n",
        "sglf_mse = np.mean((sglf_pred - abs(sglf_test_stft))**2, axis=(1,2))\n",
        "test_result = np.concatenate([bg_mse,sglf_mse])\n",
        "true = np.concatenate([np.zeros(bg_pred.shape[0]),np.ones(sglf_pred.shape[0])])\n",
        "print(min(sglf_mse),max(sglf_mse),np.mean(sglf_mse))\n",
        "print(min(bg_mse),max(bg_mse),np.mean(bg_mse))\n",
        "\n",
        "fpr, tpr, thresholds = roc_curve(true, test_result)\n",
        "auc_sglf = roc_auc_score(true, test_result)\n",
        "plt.plot(fpr, tpr,label=f'AUC = {auc_sglf:.3f}')\n",
        "plt.xlabel(\"False Positive Rate\")\n",
        "plt.ylabel(\"True Positive Rate\")\n",
        "plt.title(\"ROC Curve\")\n",
        "plt.grid(True)\n",
        "plt.legend()\n",
        "plt.show()"
      ],
      "metadata": {
        "colab": {
          "base_uri": "https://localhost:8080/",
          "height": 524
        },
        "id": "I-ORt9HFIkM7",
        "outputId": "2f268ed5-1199-4ff3-8024-09db299d94c9"
      },
      "execution_count": 140,
      "outputs": [
        {
          "output_type": "stream",
          "name": "stdout",
          "text": [
            "\u001b[1m79/79\u001b[0m \u001b[32m━━━━━━━━━━━━━━━━━━━━\u001b[0m\u001b[37m\u001b[0m \u001b[1m1s\u001b[0m 5ms/step\n",
            "0.12607049339002202 0.30869472528518 0.18253398267750512\n",
            "0.1419612379156429 0.2880881649160666 0.1702899320979886\n"
          ]
        },
        {
          "output_type": "display_data",
          "data": {
            "text/plain": [
              "<Figure size 640x480 with 1 Axes>"
            ],
            "image/png": "[encoded data removed]"
          },
          "metadata": {}
        }
      ]
    },
    {
      "cell_type": "code",
      "source": [
        "# save_dir = '/content/drive/My Drive/LIGO/DatasetSplitting/Datasplitting01/model_save'\n",
        "\n",
        "# param_set = [\n",
        "#     {'batch_size': 256, 'dropout': 0.1, 'epochs': 50, 'f1': 61, 'f2': 22, 'f5': 2, 'k1': 9,  'k2': 15, 'k3': 24, 'k4': 4,  'k5': 6,  'lr': 0.001, 's1': 1, 's2': 2},\n",
        "#     {'batch_size': 256, 'dropout': 0.1, 'epochs': 50, 'f1': 52, 'f2': 29, 'f5': 2, 'k1': 16, 'k2': 6,  'k3': 8,  'k4': 25, 'k5': 4,  'lr': 0.001, 's1': 1, 's2': 2},\n",
        "#     {'batch_size': 256, 'dropout': 0.1, 'epochs': 50, 'f1': 36, 'f2': 29, 'f5': 2, 'k1': 7,  'k2': 14, 'k3': 15, 'k4': 7,  'k5': 3,  'lr': 0.001, 's1': 1, 's2': 2},\n",
        "#     {'batch_size': 256, 'dropout': 0.1, 'epochs': 50, 'f1': 60, 'f2': 21, 'f5': 2, 'k1': 10, 'k2': 34, 'k3': 26, 'k4': 3,  'k5': 8,  'lr': 0.001, 's1': 1, 's2': 1},\n",
        "#     {'batch_size': 256, 'dropout': 0.1, 'epochs': 50, 'f1': 38, 'f2': 28, 'f5': 2, 'k1': 22, 'k2': 21, 'k3': 27, 'k4': 31, 'k5': 8,  'lr': 0.001, 's1': 1, 's2': 2},\n",
        "#     {'batch_size': 256, 'dropout': 0.1, 'epochs': 50, 'f1': 40, 'f2': 14, 'f5': 2, 'k1': 4,  'k2': 8,  'k3': 20, 'k4': 29, 'k5': 8,  'lr': 0.001, 's1': 1, 's2': 1},\n",
        "#     {'batch_size': 256, 'dropout': 0.1, 'epochs': 50, 'f1': 62, 'f2': 16, 'f5': 2, 'k1': 4,  'k2': 14, 'k3': 37, 'k4': 34, 'k5': 5,  'lr': 0.001, 's1': 1, 's2': 2}\n",
        "# ]\n",
        "\n",
        "# for i, params in enumerate(param_set):\n",
        "#     autoencoder = Autoencoder(**params, input_shape=(200, 2))\n",
        "#     autoencoder.build_model()\n",
        "#     autoencoder.model_.fit(\n",
        "#         x_train, x_train,\n",
        "#         epochs=params['epochs'],\n",
        "#         batch_size=params['batch_size'],\n",
        "#         verbose=1,\n",
        "#         callbacks=[EarlyStopping(patience=5, restore_best_weights=True)]\n",
        "#     )\n",
        "#     autoencoder.model_.save(f\"/content/drive/My Drive/LIGO/DatasetSplitting/Datasplitting01/model_save/model_{i}.keras\")\n",
        "#     print(f\"✅ Saved model_{i}.keras\")"
      ],
      "metadata": {
        "id": "DCyU9qoiEbPg"
      },
      "execution_count": 141,
      "outputs": []
    },
    {
      "cell_type": "code",
      "execution_count": 142,
      "metadata": {
        "id": "RXJOTDoNfnjT"
      },
      "outputs": [],
      "source": [
        "# def eval(model, bg, anomaly):\n",
        "#     bg_pred = model.predict(bg)\n",
        "#     anomaly_pred = model.predict(anomaly)\n",
        "#     bg_mse = np.mean((bg_pred - bg)**2, axis=(1,2))\n",
        "#     anomaly_mse = np.mean((anomaly_pred - anomaly)**2, axis=(1,2))\n",
        "\n",
        "#     true_val = np.concatenate((np.zeros(bg.shape[0]),np.ones(anomaly.shape[0])))\n",
        "#     pred_val = np.concatenate((bg_mse, anomaly_mse))\n",
        "\n",
        "#     fpr, tpr, thresholds = roc_curve(true_val, pred_val)\n",
        "#     auc_score = auc(fpr, tpr)\n",
        "#     return auc_score\n",
        "\n",
        "# # def eval(model, bg, anomaly):\n",
        "# #     bg_pred = model.predict(bg)\n",
        "# #     anomaly_pred = model.predict(anomaly)\n",
        "\n",
        "# #     bg_mse = np.mean((bg_pred - bg) ** 2, axis=(1, 2))\n",
        "# #     anomaly_mse = np.mean((anomaly_pred - anomaly) ** 2, axis=(1, 2))\n",
        "\n",
        "# #     true_val = np.concatenate((np.zeros(bg.shape[0]), np.ones(anomaly.shape[0])))\n",
        "# #     pred_val = np.concatenate((bg_mse, anomaly_mse))\n",
        "\n",
        "# #     auc = roc_auc_score(true_val, pred_val)\n",
        "# #     return auc\n",
        "\n",
        "# model_files = glob.glob(\"/content/drive/My Drive/LIGO/DatasetSplitting/Datasplitting01/model_save/model_*.keras\")\n",
        "# model_files = sorted(model_files, key=lambda x: int(re.search(r\"model_(\\d+).keras\", x).group(1)))\n",
        "# for model_file in model_files:\n",
        "#     model = keras_load_model(model_file)\n",
        "#     auc_bbh = eval(model,background_test,bbh_test)\n",
        "#     auc_sglf = eval(model,background_test,sglf_test)\n",
        "#     auc_test = eval(model,background_test_data, signal_test_data)\n",
        "#     print(f\"✅ Evaluation of model {model_file}: BBH AUC = {auc_bbh}, SG AUC = {auc_sglf}, Test AUC = {auc_test}\")\n",
        "\n"
      ]
    }
  ],
  "metadata": {
    "accelerator": "GPU",
    "colab": {
      "gpuType": "T4",
      "provenance": [],
      "include_colab_link": true
    },
    "kernelspec": {
      "display_name": "Python 3",
      "name": "python3"
    },
    "language_info": {
      "codemirror_mode": {
        "name": "ipython",
        "version": 3
      },
      "file_extension": ".py",
      "mimetype": "text/x-python",
      "name": "python",
      "nbconvert_exporter": "python",
      "pygments_lexer": "ipython3",
      "version": "3.8.15"
    }
  },
  "nbformat": 4,
  "nbformat_minor": 0
}