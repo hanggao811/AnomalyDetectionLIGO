{
  "cells": [
    {
      "cell_type": "markdown",
      "metadata": {
        "id": "view-in-github",
        "colab_type": "text"
      },
      "source": [
        "<a href=\"https://colab.research.google.com/github/hanggao811/AnomalyDetectionLIGO/blob/main/AE_simplest.ipynb\" target=\"_parent\"><img src=\"https://colab.research.google.com/assets/colab-badge.svg\" alt=\"Open In Colab\"/></a>"
      ]
    },
    {
      "cell_type": "code",
      "execution_count": 27,
      "metadata": {
        "colab": {
          "base_uri": "https://localhost:8080/"
        },
        "id": "NqD9Na21fnjL",
        "outputId": "eabd37e2-c9eb-42b6-8259-d51e993b0ac0"
      },
      "outputs": [
        {
          "output_type": "stream",
          "name": "stdout",
          "text": [
            "Drive already mounted at /content/drive; to attempt to forcibly remount, call drive.mount(\"/content/drive\", force_remount=True).\n"
          ]
        }
      ],
      "source": [
        "# Imports\n",
        "import os\n",
        "import numpy as np\n",
        "import tensorflow as tf\n",
        "from tensorflow import keras\n",
        "from tensorflow.keras import layers\n",
        "from tensorflow.keras.layers import BatchNormalization, Input\n",
        "from matplotlib import pyplot as plt\n",
        "from sklearn import metrics\n",
        "from tensorflow.keras.callbacks import ModelCheckpoint, EarlyStopping\n",
        "from sklearn.model_selection import train_test_split\n",
        "from sklearn.metrics import roc_curve, roc_auc_score\n",
        "import glob, re\n",
        "from sklearn.base import BaseEstimator, RegressorMixin\n",
        "from tensorflow.keras.models import load_model as keras_load_model\n",
        "from sklearn.model_selection import GridSearchCV, RandomizedSearchCV\n",
        "from scipy.signal import welch, csd, coherence, stft\n",
        "# Set random seed\n",
        "import random\n",
        "random.seed(42)\n",
        "np.random.seed(42)\n",
        "tf.random.set_seed(42)\n",
        "# Mount to googlecolab\n",
        "from google.colab import drive\n",
        "drive.mount('/content/drive')\n",
        "os.chdir('/content/drive/My Drive/LIGO/DatasetSplitting/Datasplitting01/dataset')\n"
      ]
    },
    {
      "cell_type": "code",
      "execution_count": 28,
      "metadata": {
        "id": "zp9N-sHcZDpe"
      },
      "outputs": [],
      "source": [
        "# Load data and normalize it\n",
        "background_train = np.load('background_train.npy')\n",
        "stds_train = np.std(background_train, axis=-1)[:, :, np.newaxis]\n",
        "background_train = background_train/stds_train\n",
        "background_train = np.swapaxes(background_train, 1, 2)\n",
        "\n",
        "background_test = np.load('background_test.npy')\n",
        "stds_test = np.std(background_test, axis=-1)[:, :, np.newaxis]\n",
        "background_test = background_test/stds_test\n",
        "background_test = np.swapaxes(background_test, 1, 2)\n",
        "\n",
        "bbh_train = np.load('bbh_train.npy')\n",
        "stds_train = np.std(bbh_train, axis=-1)[:, :, np.newaxis]\n",
        "bbh_train = bbh_train/stds_train\n",
        "bbh_train = np.swapaxes(bbh_train, 1, 2)\n",
        "\n",
        "bbh_test = np.load('bbh_test.npy')\n",
        "stds_test = np.std(bbh_test, axis=-1)[:, :, np.newaxis]\n",
        "bbh_test = bbh_test/stds_test\n",
        "bbh_test = np.swapaxes(bbh_test, 1, 2)\n",
        "\n",
        "sglf_train = np.load('sglf_train.npy')\n",
        "stds_train = np.std(sglf_train, axis=-1)[:, :, np.newaxis]\n",
        "sglf_train = sglf_train/stds_train\n",
        "sglf_train = np.swapaxes(sglf_train, 1, 2)\n",
        "\n",
        "sglf_test = np.load('sglf_test.npy')\n",
        "stds_test = np.std(sglf_test, axis=-1)[:, :, np.newaxis]\n",
        "sglf_test = sglf_test/stds_test\n",
        "sglf_test = np.swapaxes(sglf_test, 1, 2)\n",
        "\n",
        "# Load test data and normalize them\n",
        "data = np.load('ligo_bb_final.npz')\n",
        "test_data = data['data']\n",
        "stds = np.std(test_data, axis=-1)[:, :, np.newaxis]\n",
        "test_data = test_data/stds\n",
        "test_data = np.swapaxes(test_data, 1, 2)\n",
        "\n",
        "data_label = data['ids']\n",
        "indices1 = np.where(data_label == 1)[0]\n",
        "indices0 = np.where(data_label == 0)[0]\n",
        "background_test_data = test_data[indices0]\n",
        "signal_test_data = test_data[indices1]"
      ]
    },
    {
      "cell_type": "code",
      "source": [
        "print('shape for background train/test' , background_train.shape, background_test.shape)\n",
        "print('shape for bbh train/test' , bbh_train.shape, bbh_test.shape)\n",
        "print('shape for sglf train/test' , sglf_train.shape, sglf_test.shape)\n",
        "print('shape for test bg/test data' , background_test_data.shape, signal_test_data.shape)"
      ],
      "metadata": {
        "colab": {
          "base_uri": "https://localhost:8080/"
        },
        "id": "1F_tqd7SGMLJ",
        "outputId": "b2e02b82-eb1d-4dde-a8f4-8b9ddcd62adc"
      },
      "execution_count": 29,
      "outputs": [
        {
          "output_type": "stream",
          "name": "stdout",
          "text": [
            "shape for background train/test (80000, 200, 2) (20000, 200, 2)\n",
            "shape for bbh train/test (80000, 200, 2) (20000, 200, 2)\n",
            "shape for sglf train/test (80000, 200, 2) (20000, 200, 2)\n",
            "shape for test bg/test data (50000, 200, 2) (10000, 200, 2)\n"
          ]
        }
      ]
    },
    {
      "cell_type": "code",
      "source": [
        "# Making correlation\n",
        "def add_correlation_channel(x):\n",
        "    x1, x2 = x[:, :, 0], x[:, :, 1]\n",
        "    corr = np.array([\n",
        "        np.correlate(x1[i], x2[i], mode='same') for i in range(x.shape[0])\n",
        "    ])\n",
        "    return np.stack([x1, x2, corr], axis=-1)\n",
        "\n",
        "background_train = add_correlation_channel(background_train)\n",
        "background_test = add_correlation_channel(background_test)\n",
        "bbh_train = add_correlation_channel(bbh_train)\n",
        "bbh_test = add_correlation_channel(bbh_test)\n",
        "sglf_train = add_correlation_channel(sglf_train)\n",
        "sglf_test = add_correlation_channel(sglf_test)\n",
        "background_test_data = add_correlation_channel(background_test_data)\n",
        "signal_test_data = add_correlation_channel(signal_test_data)\n"
      ],
      "metadata": {
        "id": "Zdj2poEHvlNq"
      },
      "execution_count": 30,
      "outputs": []
    },
    {
      "cell_type": "code",
      "source": [
        "# Add Psd channel using Welch with shape (N_samples, 101)\n",
        "fs = 4096\n",
        "##--background_psd--##\n",
        "_,bg_train_psd = csd(background_train[:,:,0], background_train[:,:,1], fs=fs, nperseg=200)\n",
        "_,bg_test_psd = csd(background_test[:,:,0], background_test[:,:,1], fs=fs, nperseg=200)\n",
        "bg_train_psd = abs(bg_train_psd)\n",
        "bg_test_psd = abs(bg_test_psd)\n",
        "##--bbh_psd--##\n",
        "_,bbh_train_psd = csd(bbh_train[:,:,0], bbh_train[:,:,1], fs=fs, nperseg=200)\n",
        "_,bbh_test_psd = csd(bbh_test[:,:,0],bbh_test[:,:,1], fs=fs, nperseg=200)\n",
        "bbh_train_psd = abs(bbh_train_psd)\n",
        "bbh_test_psd = abs(bbh_test_psd)\n",
        "##--sglf_psd--##\n",
        "_,sglf_train_psd = csd(sglf_train[:,:,0], sglf_train[:,:,1], fs=fs, nperseg=200)\n",
        "_,sglf_test_psd = csd(sglf_test[:,:,0],sglf_test[:,:,1],fs=fs,nperseg=200)\n",
        "sglf_train_psd = abs(sglf_train_psd)\n",
        "sglf_test_psd = abs(sglf_test_psd)\n",
        "##--signal_test_dat_psd--##\n",
        "_,signal_test_data_psd = csd(signal_test_data[:,:,0],signal_test_data[:,:,1],fs=fs,nperseg=200)\n",
        "_,background_test_data_psd = csd(background_test_data[:,:,0],background_test_data[:,:,1],fs=fs,nperseg=200)\n",
        "signal_test_data_psd = abs(signal_test_data_psd)\n",
        "background_test_data_psd = abs(background_test_data_psd)\n",
        "\n",
        "\n",
        "\n",
        "# Add Psd channel using Welch with shape (N_samples, 101)\n",
        "fs = 4096\n",
        "##--background_psd--##\n",
        "f,t,bg_train_stft = stft(background_train[:,:,0] , fs=fs, nperseg=10)\n",
        "bg_train_stft = abs(bg_train_stft)\n",
        "f,t,bg_test_stft = stft(background_test[:,:,0], fs=fs, nperseg=10)\n",
        "bg_test_stft = abs(bg_test_stft)\n",
        "##--bbh_psd--##\n",
        "f,t,bbh_train_stft = stft(bbh_train[:,:,0], fs=fs, nperseg=10)\n",
        "bbh_train_stft = abs(bbh_train_stft)\n",
        "f,t,bbh_test_stft = stft(bbh_test[:,:,0], fs=fs, nperseg=10)\n",
        "bbh_test_stft = abs(bbh_test_stft)\n",
        "\n",
        "##--sglf_psd--##\n",
        "f,t,sglf_train_stft = stft(sglf_train[:,:,0], fs=fs, nperseg=10)\n",
        "sglf_train_stft = abs(sglf_train_stft)\n",
        "f,t,sglf_test_stft = stft(sglf_test[:,:,0], fs=fs, nperseg=10)\n",
        "sglf_test_stft = abs(sglf_test_stft)\n",
        "\n",
        "##--signal_test_dat_psd--##\n",
        "f,t,signal_test_data_stft = stft(signal_test_data[:,:,0],fs=fs,nperseg=10)\n",
        "f,t,background_test_data_stft = stft(background_test_data[:,:,0],fs=fs,nperseg=10)\n"
      ],
      "metadata": {
        "id": "LZIjpk10wq4O"
      },
      "execution_count": 31,
      "outputs": []
    },
    {
      "cell_type": "code",
      "source": [
        "# sample = np.abs(bg_train_stft[-3])  # shape (freqs, time)\n",
        "# plt.pcolormesh(t, f, np.log10(sample + 1e-12), shading='gouraud')\n",
        "\n",
        "# # Then plot\n",
        "# plt.pcolormesh(t, f, sample, shading='gouraud')\n",
        "# plt.colorbar(label=\"|Zx * conj(Zy)|\")\n",
        "# plt.ylabel(\"Frequency [Hz]\")\n",
        "# plt.xlabel(\"Time [s]\")\n",
        "# plt.title(\"Cross STFT Magnitude\")\n",
        "# plt.tight_layout()\n",
        "# plt.show()"
      ],
      "metadata": {
        "id": "3CpzuKJ4ZcxU"
      },
      "execution_count": 32,
      "outputs": []
    },
    {
      "cell_type": "markdown",
      "metadata": {
        "id": "nSS8Jm0_fnjR"
      },
      "source": [
        "SOLUTION GIVEN"
      ]
    },
    {
      "cell_type": "code",
      "execution_count": 33,
      "metadata": {
        "id": "Gdzk8vpMfnjS",
        "collapsed": true
      },
      "outputs": [],
      "source": [
        "tf.config.experimental.enable_op_determinism()\n",
        "\n",
        "class Autoencoder:\n",
        "    def __init__(self, input_shape=(200,3),stft_shape=(6,41), dropout=0.1, batch_size = 256, epochs = 50, lr = 1e-3,\n",
        "                 f1=3,f2=16,f3=32,f4=64,k1=16,k2=32,k3=64,k4=128,s1=2,s2=2,s3=1,s4=1):\n",
        "        super().__init__()\n",
        "        self.input_shape = input_shape\n",
        "        self.stft_shape = stft_shape\n",
        "        self.f1 = f1\n",
        "        self.f2 = f2\n",
        "        self.f3 = f3\n",
        "        self.k1 = k1\n",
        "        self.k2 = k2\n",
        "        self.k3 = k3\n",
        "        self.s1 = s1\n",
        "        self.s2 = s2\n",
        "        self.s3 = s3\n",
        "        self.f4 = f4\n",
        "        self.k4 = k4\n",
        "        self.s4 = s4\n",
        "        self.dropout = dropout\n",
        "        self.batch_size = batch_size\n",
        "        self.epochs = epochs\n",
        "        self.lr = lr\n",
        "        self.model_ = None\n",
        "\n",
        "    def positional_encoding(self, inputs):\n",
        "        embed_size = inputs.shape[-1]\n",
        "        input_length = inputs.shape[-2]\n",
        "        assert embed_size % 2 == 0, 'embed_size must be even'\n",
        "        p, i = np.meshgrid(np.arange(input_length), np.arange(embed_size // 2))\n",
        "        pos_emb = np.empty((1,input_length, embed_size))\n",
        "        pos_emb[0,:,::2] = np.sin(p/(10000**(2*i/embed_size))).T\n",
        "        pos_emb[0,:,1::2] = np.cos(p/(10000**(2*i/embed_size))).T\n",
        "        self.pos_encoding = tf.constant(pos_emb.astype(np.float32))\n",
        "        return inputs + self.pos_encoding[:, :input_length, :]\n",
        "\n",
        "    def build_model(self):\n",
        "        inputs = keras.Input(shape=self.input_shape)\n",
        "        x = inputs\n",
        "\n",
        "        # Encoder\n",
        "        x = layers.Conv1D(filters=self.f1, kernel_size=self.k1, strides=self.s1, padding=\"same\", activation=\"tanh\")(x)\n",
        "        print(x.shape)\n",
        "        x = layers.Dropout(rate=self.dropout)(x)\n",
        "        x = layers.Conv1D(filters=self.f2, kernel_size=self.k2, strides=self.s2, padding=\"same\", activation=\"tanh\")(x)\n",
        "        print(x.shape)\n",
        "        x = layers.Conv1D(filters=self.f3, kernel_size=self.k3, strides=self.s3, padding=\"same\")(x)\n",
        "        print(x.shape)\n",
        "\n",
        "        # Bottleneck\n",
        "        latent_x = layers.Conv1D(filters=self.f4, kernel_size=self.k4, strides=self.s4, padding=\"same\")(x)\n",
        "        print(x.shape)\n",
        "        x = layers.Dropout(rate=self.dropout)(latent_x)\n",
        "\n",
        "        # Decoder Head\n",
        "\n",
        "        x = layers.Conv1DTranspose(filters=self.f3, kernel_size=self.k3, strides=self.s3, padding=\"same\")(x)\n",
        "        print(x.shape)\n",
        "        x = layers.Conv1DTranspose(filters=self.f2, kernel_size=self.k2, strides=self.s2, padding=\"same\")(x)\n",
        "        print(x.shape)\n",
        "        decoder_output = layers.Conv1DTranspose(filters=self.f1, kernel_size=self.k1, strides=2, padding=\"same\")(x)\n",
        "        print(x.shape)\n",
        "\n",
        "        # STFT Head\n",
        "        stft_x = layers.Flatten()(latent_x)\n",
        "        print(stft_x.shape)\n",
        "        stft_x = layers.Dense(self.stft_shape[0]*self.stft_shape[1])(stft_x)\n",
        "        print(stft_x.shape)\n",
        "        stft_x = layers.Reshape((self.stft_shape[0],self.stft_shape[1]))(stft_x)\n",
        "        print(stft_x.shape)\n",
        "        stft_output = layers.Conv1D(filters=self.stft_shape[1], kernel_size=1, strides=1, padding=\"same\")(stft_x)\n",
        "        print(stft_output.shape)\n",
        "\n",
        "\n",
        "        self.model_ = keras.Model(inputs, outputs={\"reconstructed_signal\": decoder_output, \"predicted_stft\": stft_output })\n",
        "        self.model_.compile(loss={\"reconstructed_signal\": \"mse\",\"predicted_stft\": \"mse\"},\n",
        "                            loss_weights={\"reconstructed_signal\": 5,\"predicted_stft\": 5},\n",
        "                            optimizer=keras.optimizers.Adam(learning_rate=self.lr))\n",
        "\n",
        "\n",
        "    def predict(self, X):\n",
        "        return self.model_.predict(X, batch_size=self.batch_size)\n"
      ]
    },
    {
      "cell_type": "code",
      "source": [
        "param_set = [\n",
        "    {'batch_size': 256, 'dropout': 0.1, 'epochs': 50, 'f1': 32, 'f2': 16, 'f5': 3, 'k1': 16,  'k2': 32, 'k3': 64, 'k4': 128,  'k5': 5,  'lr': 0.001, 's1': 2, 's2': 2}, #0.978,0.984,0.280, before that(no correlation) 0.658,0.413,0.348\n",
        "    #same feature but adding one more layer at the beginnning to make it symmetry without correlation #(None, 200, 32) (None, 100, 32) (None, 50, 16) (None, 100, 16) (None, 200, 32) (None, 200, 2)  0.942 0.968 0.346 no correlation gives 0.799 0.404 0.322\n",
        "    #its not perfectly symmetric, let me try this\n",
        "    {'batch_size': 256, 'dropout': 0.1, 'epochs': 50, 'f1': 3, 'f2': 128, 'f3': 64, 'f4':1, 'k1': 6,  'k2': 32, 'k3': 128, 'k4':256, 'lr': 0.001, 's1': 1, 's2': 2, 's3':2, 's4':2}\n",
        "\n",
        "\n",
        "]\n",
        "params = param_set[1]\n",
        "AE = Autoencoder(input_shape=(200, 3),stft_shape=bg_train_stft.shape[1:], **params)\n",
        "AE.build_model()\n",
        "AE.model_.fit(background_train,{\"reconstructed_signal\":background_train,\"predicted_stft\":bg_train_stft},epochs=AE.epochs,batch_size=AE.batch_size,validation_split=0.2,verbose=1,callbacks=[EarlyStopping(monitor='val_loss', patience=5, restore_best_weights=True)])"
      ],
      "metadata": {
        "colab": {
          "base_uri": "https://localhost:8080/"
        },
        "collapsed": true,
        "id": "2l7-4gaaEdMz",
        "outputId": "070c4163-32d5-442b-e662-0ce3a22abe47"
      },
      "execution_count": 34,
      "outputs": [
        {
          "output_type": "stream",
          "name": "stdout",
          "text": [
            "(None, 200, 3)\n",
            "(None, 100, 128)\n",
            "(None, 50, 64)\n",
            "(None, 50, 64)\n",
            "(None, 50, 64)\n",
            "(None, 100, 128)\n",
            "(None, 100, 128)\n",
            "(None, 25)\n",
            "(None, 246)\n",
            "(None, 6, 41)\n",
            "(None, 6, 41)\n",
            "Epoch 1/50\n",
            "\u001b[1m250/250\u001b[0m \u001b[32m━━━━━━━━━━━━━━━━━━━━\u001b[0m\u001b[37m\u001b[0m \u001b[1m23s\u001b[0m 80ms/step - loss: 306.5296 - predicted_stft_loss: 0.5101 - reconstructed_signal_loss: 60.7958 - val_loss: 269.6963 - val_predicted_stft_loss: 0.0576 - val_reconstructed_signal_loss: 53.8871\n",
            "Epoch 2/50\n",
            "\u001b[1m250/250\u001b[0m \u001b[32m━━━━━━━━━━━━━━━━━━━━\u001b[0m\u001b[37m\u001b[0m \u001b[1m21s\u001b[0m 82ms/step - loss: 278.7131 - predicted_stft_loss: 0.0484 - reconstructed_signal_loss: 55.6942 - val_loss: 258.0803 - val_predicted_stft_loss: 0.0362 - val_reconstructed_signal_loss: 51.5798\n",
            "Epoch 3/50\n",
            "\u001b[1m250/250\u001b[0m \u001b[32m━━━━━━━━━━━━━━━━━━━━\u001b[0m\u001b[37m\u001b[0m \u001b[1m39s\u001b[0m 76ms/step - loss: 271.0393 - predicted_stft_loss: 0.0357 - reconstructed_signal_loss: 54.1722 - val_loss: 257.6590 - val_predicted_stft_loss: 0.0350 - val_reconstructed_signal_loss: 51.4958\n",
            "Epoch 4/50\n",
            "\u001b[1m250/250\u001b[0m \u001b[32m━━━━━━━━━━━━━━━━━━━━\u001b[0m\u001b[37m\u001b[0m \u001b[1m21s\u001b[0m 78ms/step - loss: 270.0732 - predicted_stft_loss: 0.0350 - reconstructed_signal_loss: 53.9797 - val_loss: 256.5847 - val_predicted_stft_loss: 0.0349 - val_reconstructed_signal_loss: 51.2803\n",
            "Epoch 5/50\n",
            "\u001b[1m250/250\u001b[0m \u001b[32m━━━━━━━━━━━━━━━━━━━━\u001b[0m\u001b[37m\u001b[0m \u001b[1m21s\u001b[0m 81ms/step - loss: 268.9964 - predicted_stft_loss: 0.0349 - reconstructed_signal_loss: 53.7644 - val_loss: 256.2940 - val_predicted_stft_loss: 0.0349 - val_reconstructed_signal_loss: 51.2229\n",
            "Epoch 6/50\n",
            "\u001b[1m250/250\u001b[0m \u001b[32m━━━━━━━━━━━━━━━━━━━━\u001b[0m\u001b[37m\u001b[0m \u001b[1m19s\u001b[0m 76ms/step - loss: 268.2101 - predicted_stft_loss: 0.0349 - reconstructed_signal_loss: 53.6072 - val_loss: 255.0473 - val_predicted_stft_loss: 0.0349 - val_reconstructed_signal_loss: 50.9742\n",
            "Epoch 7/50\n",
            "\u001b[1m250/250\u001b[0m \u001b[32m━━━━━━━━━━━━━━━━━━━━\u001b[0m\u001b[37m\u001b[0m \u001b[1m20s\u001b[0m 80ms/step - loss: 267.5230 - predicted_stft_loss: 0.0349 - reconstructed_signal_loss: 53.4697 - val_loss: 254.3577 - val_predicted_stft_loss: 0.0349 - val_reconstructed_signal_loss: 50.8362\n",
            "Epoch 8/50\n",
            "\u001b[1m250/250\u001b[0m \u001b[32m━━━━━━━━━━━━━━━━━━━━\u001b[0m\u001b[37m\u001b[0m \u001b[1m19s\u001b[0m 76ms/step - loss: 267.3071 - predicted_stft_loss: 0.0349 - reconstructed_signal_loss: 53.4265 - val_loss: 254.1478 - val_predicted_stft_loss: 0.0349 - val_reconstructed_signal_loss: 50.7947\n",
            "Epoch 9/50\n",
            "\u001b[1m250/250\u001b[0m \u001b[32m━━━━━━━━━━━━━━━━━━━━\u001b[0m\u001b[37m\u001b[0m \u001b[1m19s\u001b[0m 77ms/step - loss: 266.7567 - predicted_stft_loss: 0.0349 - reconstructed_signal_loss: 53.3164 - val_loss: 254.0572 - val_predicted_stft_loss: 0.0350 - val_reconstructed_signal_loss: 50.7769\n",
            "Epoch 10/50\n",
            "\u001b[1m250/250\u001b[0m \u001b[32m━━━━━━━━━━━━━━━━━━━━\u001b[0m\u001b[37m\u001b[0m \u001b[1m20s\u001b[0m 76ms/step - loss: 266.4763 - predicted_stft_loss: 0.0350 - reconstructed_signal_loss: 53.2603 - val_loss: 253.0825 - val_predicted_stft_loss: 0.0350 - val_reconstructed_signal_loss: 50.5823\n",
            "Epoch 11/50\n",
            "\u001b[1m250/250\u001b[0m \u001b[32m━━━━━━━━━━━━━━━━━━━━\u001b[0m\u001b[37m\u001b[0m \u001b[1m22s\u001b[0m 81ms/step - loss: 265.7451 - predicted_stft_loss: 0.0350 - reconstructed_signal_loss: 53.1140 - val_loss: 253.4312 - val_predicted_stft_loss: 0.0350 - val_reconstructed_signal_loss: 50.6517\n",
            "Epoch 12/50\n",
            "\u001b[1m250/250\u001b[0m \u001b[32m━━━━━━━━━━━━━━━━━━━━\u001b[0m\u001b[37m\u001b[0m \u001b[1m19s\u001b[0m 76ms/step - loss: 265.5555 - predicted_stft_loss: 0.0350 - reconstructed_signal_loss: 53.0761 - val_loss: 252.7936 - val_predicted_stft_loss: 0.0350 - val_reconstructed_signal_loss: 50.5241\n",
            "Epoch 13/50\n",
            "\u001b[1m250/250\u001b[0m \u001b[32m━━━━━━━━━━━━━━━━━━━━\u001b[0m\u001b[37m\u001b[0m \u001b[1m21s\u001b[0m 77ms/step - loss: 265.4358 - predicted_stft_loss: 0.0350 - reconstructed_signal_loss: 53.0522 - val_loss: 252.5505 - val_predicted_stft_loss: 0.0350 - val_reconstructed_signal_loss: 50.4756\n",
            "Epoch 14/50\n",
            "\u001b[1m250/250\u001b[0m \u001b[32m━━━━━━━━━━━━━━━━━━━━\u001b[0m\u001b[37m\u001b[0m \u001b[1m19s\u001b[0m 76ms/step - loss: 265.4248 - predicted_stft_loss: 0.0350 - reconstructed_signal_loss: 53.0500 - val_loss: 253.1532 - val_predicted_stft_loss: 0.0350 - val_reconstructed_signal_loss: 50.5960\n",
            "Epoch 15/50\n",
            "\u001b[1m250/250\u001b[0m \u001b[32m━━━━━━━━━━━━━━━━━━━━\u001b[0m\u001b[37m\u001b[0m \u001b[1m20s\u001b[0m 76ms/step - loss: 265.4589 - predicted_stft_loss: 0.0350 - reconstructed_signal_loss: 53.0568 - val_loss: 252.6129 - val_predicted_stft_loss: 0.0350 - val_reconstructed_signal_loss: 50.4882\n",
            "Epoch 16/50\n",
            "\u001b[1m250/250\u001b[0m \u001b[32m━━━━━━━━━━━━━━━━━━━━\u001b[0m\u001b[37m\u001b[0m \u001b[1m21s\u001b[0m 76ms/step - loss: 265.2713 - predicted_stft_loss: 0.0350 - reconstructed_signal_loss: 53.0193 - val_loss: 252.4294 - val_predicted_stft_loss: 0.0350 - val_reconstructed_signal_loss: 50.4514\n",
            "Epoch 17/50\n",
            "\u001b[1m250/250\u001b[0m \u001b[32m━━━━━━━━━━━━━━━━━━━━\u001b[0m\u001b[37m\u001b[0m \u001b[1m22s\u001b[0m 81ms/step - loss: 265.1334 - predicted_stft_loss: 0.0350 - reconstructed_signal_loss: 52.9917 - val_loss: 252.9892 - val_predicted_stft_loss: 0.0350 - val_reconstructed_signal_loss: 50.5626\n",
            "Epoch 18/50\n",
            "\u001b[1m250/250\u001b[0m \u001b[32m━━━━━━━━━━━━━━━━━━━━\u001b[0m\u001b[37m\u001b[0m \u001b[1m19s\u001b[0m 77ms/step - loss: 265.1460 - predicted_stft_loss: 0.0350 - reconstructed_signal_loss: 52.9942 - val_loss: 252.5182 - val_predicted_stft_loss: 0.0350 - val_reconstructed_signal_loss: 50.4690\n",
            "Epoch 19/50\n",
            "\u001b[1m250/250\u001b[0m \u001b[32m━━━━━━━━━━━━━━━━━━━━\u001b[0m\u001b[37m\u001b[0m \u001b[1m19s\u001b[0m 76ms/step - loss: 265.2029 - predicted_stft_loss: 0.0350 - reconstructed_signal_loss: 53.0055 - val_loss: 252.4952 - val_predicted_stft_loss: 0.0350 - val_reconstructed_signal_loss: 50.4645\n",
            "Epoch 20/50\n",
            "\u001b[1m250/250\u001b[0m \u001b[32m━━━━━━━━━━━━━━━━━━━━\u001b[0m\u001b[37m\u001b[0m \u001b[1m20s\u001b[0m 77ms/step - loss: 265.2901 - predicted_stft_loss: 0.0350 - reconstructed_signal_loss: 53.0230 - val_loss: 252.7204 - val_predicted_stft_loss: 0.0351 - val_reconstructed_signal_loss: 50.5097\n",
            "Epoch 21/50\n",
            "\u001b[1m250/250\u001b[0m \u001b[32m━━━━━━━━━━━━━━━━━━━━\u001b[0m\u001b[37m\u001b[0m \u001b[1m20s\u001b[0m 81ms/step - loss: 265.1552 - predicted_stft_loss: 0.0350 - reconstructed_signal_loss: 52.9960 - val_loss: 252.2305 - val_predicted_stft_loss: 0.0351 - val_reconstructed_signal_loss: 50.4117\n",
            "Epoch 22/50\n",
            "\u001b[1m250/250\u001b[0m \u001b[32m━━━━━━━━━━━━━━━━━━━━\u001b[0m\u001b[37m\u001b[0m \u001b[1m21s\u001b[0m 81ms/step - loss: 265.0851 - predicted_stft_loss: 0.0350 - reconstructed_signal_loss: 52.9820 - val_loss: 252.4744 - val_predicted_stft_loss: 0.0351 - val_reconstructed_signal_loss: 50.4600\n",
            "Epoch 23/50\n",
            "\u001b[1m250/250\u001b[0m \u001b[32m━━━━━━━━━━━━━━━━━━━━\u001b[0m\u001b[37m\u001b[0m \u001b[1m20s\u001b[0m 81ms/step - loss: 265.0916 - predicted_stft_loss: 0.0350 - reconstructed_signal_loss: 52.9833 - val_loss: 252.7700 - val_predicted_stft_loss: 0.0351 - val_reconstructed_signal_loss: 50.5195\n",
            "Epoch 24/50\n",
            "\u001b[1m250/250\u001b[0m \u001b[32m━━━━━━━━━━━━━━━━━━━━\u001b[0m\u001b[37m\u001b[0m \u001b[1m19s\u001b[0m 76ms/step - loss: 265.0440 - predicted_stft_loss: 0.0350 - reconstructed_signal_loss: 52.9738 - val_loss: 252.6996 - val_predicted_stft_loss: 0.0351 - val_reconstructed_signal_loss: 50.5053\n",
            "Epoch 25/50\n",
            "\u001b[1m250/250\u001b[0m \u001b[32m━━━━━━━━━━━━━━━━━━━━\u001b[0m\u001b[37m\u001b[0m \u001b[1m20s\u001b[0m 81ms/step - loss: 265.0748 - predicted_stft_loss: 0.0350 - reconstructed_signal_loss: 52.9799 - val_loss: 252.9896 - val_predicted_stft_loss: 0.0350 - val_reconstructed_signal_loss: 50.5633\n",
            "Epoch 26/50\n",
            "\u001b[1m250/250\u001b[0m \u001b[32m━━━━━━━━━━━━━━━━━━━━\u001b[0m\u001b[37m\u001b[0m \u001b[1m19s\u001b[0m 76ms/step - loss: 265.0230 - predicted_stft_loss: 0.0350 - reconstructed_signal_loss: 52.9696 - val_loss: 252.3240 - val_predicted_stft_loss: 0.0351 - val_reconstructed_signal_loss: 50.4303\n"
          ]
        },
        {
          "output_type": "execute_result",
          "data": {
            "text/plain": [
              "<keras.src.callbacks.history.History at 0x7ea6b0092b10>"
            ]
          },
          "metadata": {},
          "execution_count": 34
        }
      ]
    },
    {
      "cell_type": "code",
      "source": [
        "test_pred = AE.predict(signal_test_data)['predicted_stft']\n",
        "bg_pred = AE.predict(background_test_data)['predicted_stft']\n",
        "test_mse = np.mean((test_pred - abs(signal_test_data_stft))**2,axis=(1,2))\n",
        "bg_mse = np.mean((bg_pred - abs(background_test_data_stft))**2,axis=(1,2))\n",
        "test_result = np.concatenate([bg_mse,test_mse])\n",
        "true = np.concatenate([np.zeros(bg_pred.shape[0]),np.ones(test_pred.shape[0])])\n",
        "# print(min(test_mse),max(test_mse),np.mean(test_mse))\n",
        "# print(min(bg_mse),max(bg_mse),np.mean(bg_mse))\n",
        "\n",
        "fpr, tpr, thresholds = roc_curve(true, test_result)\n",
        "auc_sg = roc_auc_score(true, test_result)\n",
        "plt.plot(fpr, tpr,label=f'AUC = {auc_sg:.3f}')\n",
        "plt.xlabel(\"False Positive Rate\")\n",
        "plt.ylabel(\"True Positive Rate\")\n",
        "plt.title(\"ROC Curve\")\n",
        "plt.grid(True)\n",
        "plt.legend()\n",
        "plt.show()"
      ],
      "metadata": {
        "id": "9nemGU5liEPC",
        "outputId": "e6cdefb1-053d-4248-e1f2-87f475120973",
        "colab": {
          "base_uri": "https://localhost:8080/",
          "height": 507
        }
      },
      "execution_count": 35,
      "outputs": [
        {
          "output_type": "stream",
          "name": "stdout",
          "text": [
            "\u001b[1m40/40\u001b[0m \u001b[32m━━━━━━━━━━━━━━━━━━━━\u001b[0m\u001b[37m\u001b[0m \u001b[1m1s\u001b[0m 26ms/step\n",
            "\u001b[1m196/196\u001b[0m \u001b[32m━━━━━━━━━━━━━━━━━━━━\u001b[0m\u001b[37m\u001b[0m \u001b[1m5s\u001b[0m 23ms/step\n"
          ]
        },
        {
          "output_type": "display_data",
          "data": {
            "text/plain": [
              "<Figure size 640x480 with 1 Axes>"
            ],
            "image/png": "[encoded data removed]"
          },
          "metadata": {}
        }
      ]
    },
    {
      "cell_type": "code",
      "source": [
        "bbh_pred = AE.predict(bbh_test)['predicted_stft']\n",
        "bg_pred = AE.predict(background_test)['predicted_stft']\n",
        "bbh_mse = np.mean((bbh_pred - abs(bbh_test_stft))**2, axis=(1,2))\n",
        "bg_mse = np.mean((bg_pred - abs(bg_test_stft))**2, axis=(1,2))\n",
        "test_result = np.concatenate([bg_mse,bbh_mse])\n",
        "true = np.concatenate([np.zeros(bg_pred.shape[0]),np.ones(bbh_pred.shape[0])])\n",
        "print(min(bbh_mse),max(bbh_mse),np.mean(bbh_mse))\n",
        "print(min(bg_mse),max(bg_mse),np.mean(bg_mse))\n",
        "\n",
        "fpr, tpr, thresholds = roc_curve(true, test_result)\n",
        "auc_bbh = roc_auc_score(true, test_result)\n",
        "plt.plot(fpr, tpr,label=f'AUC = {auc_bbh:.3f}')\n",
        "plt.xlabel(\"False Positive Rate\")\n",
        "plt.ylabel(\"True Positive Rate\")\n",
        "plt.title(\"ROC Curve\")\n",
        "plt.grid(True)\n",
        "plt.legend()\n",
        "plt.show()"
      ],
      "metadata": {
        "colab": {
          "base_uri": "https://localhost:8080/",
          "height": 541
        },
        "id": "blmzhTGZH4KJ",
        "outputId": "4d5a147a-cd6d-4295-f690-fea89e48dfa0"
      },
      "execution_count": 36,
      "outputs": [
        {
          "output_type": "stream",
          "name": "stdout",
          "text": [
            "\u001b[1m79/79\u001b[0m \u001b[32m━━━━━━━━━━━━━━━━━━━━\u001b[0m\u001b[37m\u001b[0m \u001b[1m2s\u001b[0m 22ms/step\n",
            "\u001b[1m79/79\u001b[0m \u001b[32m━━━━━━━━━━━━━━━━━━━━\u001b[0m\u001b[37m\u001b[0m \u001b[1m2s\u001b[0m 22ms/step\n",
            "0.02380014262978444 0.07844359192048055 0.04064308985490704\n",
            "0.02313136838745663 0.17100970850489164 0.035049716140380306\n"
          ]
        },
        {
          "output_type": "display_data",
          "data": {
            "text/plain": [
              "<Figure size 640x480 with 1 Axes>"
            ],
            "image/png": "[encoded data removed]"
          },
          "metadata": {}
        }
      ]
    },
    {
      "cell_type": "code",
      "source": [
        "sglf_pred = AE.predict(sglf_test)['predicted_stft']\n",
        "sglf_mse = np.mean((sglf_pred - abs(sglf_test_stft))**2, axis=(1,2))\n",
        "test_result = np.concatenate([bg_mse,sglf_mse])\n",
        "true = np.concatenate([np.zeros(bg_pred.shape[0]),np.ones(sglf_pred.shape[0])])\n",
        "print(min(sglf_mse),max(sglf_mse),np.mean(sglf_mse))\n",
        "print(min(bg_mse),max(bg_mse),np.mean(bg_mse))\n",
        "\n",
        "fpr, tpr, thresholds = roc_curve(true, test_result)\n",
        "auc_sglf = roc_auc_score(true, test_result)\n",
        "plt.plot(fpr, tpr,label=f'AUC = {auc_sglf:.3f}')\n",
        "plt.xlabel(\"False Positive Rate\")\n",
        "plt.ylabel(\"True Positive Rate\")\n",
        "plt.title(\"ROC Curve\")\n",
        "plt.grid(True)\n",
        "plt.legend()\n",
        "plt.show()"
      ],
      "metadata": {
        "colab": {
          "base_uri": "https://localhost:8080/",
          "height": 524
        },
        "id": "I-ORt9HFIkM7",
        "outputId": "dd97eaef-80bd-4d27-812a-446c6975431b"
      },
      "execution_count": 37,
      "outputs": [
        {
          "output_type": "stream",
          "name": "stdout",
          "text": [
            "\u001b[1m79/79\u001b[0m \u001b[32m━━━━━━━━━━━━━━━━━━━━\u001b[0m\u001b[37m\u001b[0m \u001b[1m2s\u001b[0m 22ms/step\n",
            "0.023377449481551956 0.18120956194304028 0.039069948887061404\n",
            "0.02313136838745663 0.17100970850489164 0.035049716140380306\n"
          ]
        },
        {
          "output_type": "display_data",
          "data": {
            "text/plain": [
              "<Figure size 640x480 with 1 Axes>"
            ],
            "image/png": "[encoded data removed]"
          },
          "metadata": {}
        }
      ]
    },
    {
      "cell_type": "code",
      "source": [
        "# save_dir = '/content/drive/My Drive/LIGO/DatasetSplitting/Datasplitting01/model_save'\n",
        "\n",
        "# param_set = [\n",
        "#     {'batch_size': 256, 'dropout': 0.1, 'epochs': 50, 'f1': 61, 'f2': 22, 'f5': 2, 'k1': 9,  'k2': 15, 'k3': 24, 'k4': 4,  'k5': 6,  'lr': 0.001, 's1': 1, 's2': 2},\n",
        "#     {'batch_size': 256, 'dropout': 0.1, 'epochs': 50, 'f1': 52, 'f2': 29, 'f5': 2, 'k1': 16, 'k2': 6,  'k3': 8,  'k4': 25, 'k5': 4,  'lr': 0.001, 's1': 1, 's2': 2},\n",
        "#     {'batch_size': 256, 'dropout': 0.1, 'epochs': 50, 'f1': 36, 'f2': 29, 'f5': 2, 'k1': 7,  'k2': 14, 'k3': 15, 'k4': 7,  'k5': 3,  'lr': 0.001, 's1': 1, 's2': 2},\n",
        "#     {'batch_size': 256, 'dropout': 0.1, 'epochs': 50, 'f1': 60, 'f2': 21, 'f5': 2, 'k1': 10, 'k2': 34, 'k3': 26, 'k4': 3,  'k5': 8,  'lr': 0.001, 's1': 1, 's2': 1},\n",
        "#     {'batch_size': 256, 'dropout': 0.1, 'epochs': 50, 'f1': 38, 'f2': 28, 'f5': 2, 'k1': 22, 'k2': 21, 'k3': 27, 'k4': 31, 'k5': 8,  'lr': 0.001, 's1': 1, 's2': 2},\n",
        "#     {'batch_size': 256, 'dropout': 0.1, 'epochs': 50, 'f1': 40, 'f2': 14, 'f5': 2, 'k1': 4,  'k2': 8,  'k3': 20, 'k4': 29, 'k5': 8,  'lr': 0.001, 's1': 1, 's2': 1},\n",
        "#     {'batch_size': 256, 'dropout': 0.1, 'epochs': 50, 'f1': 62, 'f2': 16, 'f5': 2, 'k1': 4,  'k2': 14, 'k3': 37, 'k4': 34, 'k5': 5,  'lr': 0.001, 's1': 1, 's2': 2}\n",
        "# ]\n",
        "\n",
        "# for i, params in enumerate(param_set):\n",
        "#     autoencoder = Autoencoder(**params, input_shape=(200, 2))\n",
        "#     autoencoder.build_model()\n",
        "#     autoencoder.model_.fit(\n",
        "#         x_train, x_train,\n",
        "#         epochs=params['epochs'],\n",
        "#         batch_size=params['batch_size'],\n",
        "#         verbose=1,\n",
        "#         callbacks=[EarlyStopping(patience=5, restore_best_weights=True)]\n",
        "#     )\n",
        "#     autoencoder.model_.save(f\"/content/drive/My Drive/LIGO/DatasetSplitting/Datasplitting01/model_save/model_{i}.keras\")\n",
        "#     print(f\"✅ Saved model_{i}.keras\")"
      ],
      "metadata": {
        "id": "DCyU9qoiEbPg"
      },
      "execution_count": 38,
      "outputs": []
    },
    {
      "cell_type": "code",
      "execution_count": 39,
      "metadata": {
        "id": "RXJOTDoNfnjT"
      },
      "outputs": [],
      "source": [
        "# def eval(model, bg, anomaly):\n",
        "#     bg_pred = model.predict(bg)\n",
        "#     anomaly_pred = model.predict(anomaly)\n",
        "#     bg_mse = np.mean((bg_pred - bg)**2, axis=(1,2))\n",
        "#     anomaly_mse = np.mean((anomaly_pred - anomaly)**2, axis=(1,2))\n",
        "\n",
        "#     true_val = np.concatenate((np.zeros(bg.shape[0]),np.ones(anomaly.shape[0])))\n",
        "#     pred_val = np.concatenate((bg_mse, anomaly_mse))\n",
        "\n",
        "#     fpr, tpr, thresholds = roc_curve(true_val, pred_val)\n",
        "#     auc_score = auc(fpr, tpr)\n",
        "#     return auc_score\n",
        "\n",
        "# # def eval(model, bg, anomaly):\n",
        "# #     bg_pred = model.predict(bg)\n",
        "# #     anomaly_pred = model.predict(anomaly)\n",
        "\n",
        "# #     bg_mse = np.mean((bg_pred - bg) ** 2, axis=(1, 2))\n",
        "# #     anomaly_mse = np.mean((anomaly_pred - anomaly) ** 2, axis=(1, 2))\n",
        "\n",
        "# #     true_val = np.concatenate((np.zeros(bg.shape[0]), np.ones(anomaly.shape[0])))\n",
        "# #     pred_val = np.concatenate((bg_mse, anomaly_mse))\n",
        "\n",
        "# #     auc = roc_auc_score(true_val, pred_val)\n",
        "# #     return auc\n",
        "\n",
        "# model_files = glob.glob(\"/content/drive/My Drive/LIGO/DatasetSplitting/Datasplitting01/model_save/model_*.keras\")\n",
        "# model_files = sorted(model_files, key=lambda x: int(re.search(r\"model_(\\d+).keras\", x).group(1)))\n",
        "# for model_file in model_files:\n",
        "#     model = keras_load_model(model_file)\n",
        "#     auc_bbh = eval(model,background_test,bbh_test)\n",
        "#     auc_sglf = eval(model,background_test,sglf_test)\n",
        "#     auc_test = eval(model,background_test_data, signal_test_data)\n",
        "#     print(f\"✅ Evaluation of model {model_file}: BBH AUC = {auc_bbh}, SG AUC = {auc_sglf}, Test AUC = {auc_test}\")\n",
        "\n"
      ]
    }
  ],
  "metadata": {
    "accelerator": "GPU",
    "colab": {
      "gpuType": "T4",
      "provenance": [],
      "include_colab_link": true
    },
    "kernelspec": {
      "display_name": "Python 3",
      "name": "python3"
    },
    "language_info": {
      "codemirror_mode": {
        "name": "ipython",
        "version": 3
      },
      "file_extension": ".py",
      "mimetype": "text/x-python",
      "name": "python",
      "nbconvert_exporter": "python",
      "pygments_lexer": "ipython3",
      "version": "3.8.15"
    }
  },
  "nbformat": 4,
  "nbformat_minor": 0
}