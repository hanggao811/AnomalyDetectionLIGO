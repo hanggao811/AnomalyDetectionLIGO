{
  "nbformat": 4,
  "nbformat_minor": 0,
  "metadata": {
    "colab": {
      "provenance": [],
      "toc_visible": true,
      "gpuType": "T4",
      "authorship_tag": "ABX9TyMaR1r+AzGSjC5s79RZsAUh",
      "include_colab_link": true
    },
    "kernelspec": {
      "name": "python3",
      "display_name": "Python 3"
    },
    "language_info": {
      "name": "python"
    },
    "accelerator": "GPU"
  },
  "cells": [
    {
      "cell_type": "markdown",
      "metadata": {
        "id": "view-in-github",
        "colab_type": "text"
      },
      "source": [
        "<a href=\"https://colab.research.google.com/github/hanggao811/AnomalyDetectionLIGO/blob/main/CNNClassifier.ipynb\" target=\"_parent\"><img src=\"https://colab.research.google.com/assets/colab-badge.svg\" alt=\"Open In Colab\"/></a>"
      ]
    },
    {
      "cell_type": "code",
      "execution_count": 5,
      "metadata": {
        "colab": {
          "base_uri": "https://localhost:8080/"
        },
        "id": "AD5L3SPbfIKW",
        "outputId": "9b7a0477-614b-443b-fa53-0897eb2d1f75"
      },
      "outputs": [
        {
          "output_type": "stream",
          "name": "stdout",
          "text": [
            "Drive already mounted at /content/drive; to attempt to forcibly remount, call drive.mount(\"/content/drive\", force_remount=True).\n"
          ]
        }
      ],
      "source": [
        "import os\n",
        "from google.colab import drive\n",
        "drive.mount('/content/drive')\n",
        "os.chdir('/content/drive/My Drive/LIGO/DatasetSplitting/Datasplitting01/dataset')\n",
        "import tensorflow as tf\n",
        "import numpy as np\n",
        "import pandas as pd\n",
        "from matplotlib import pyplot as plt\n",
        "from tensorflow.keras import layers, optimizers, Input, Model\n",
        "from tensorflow.keras.metrics import AUC\n",
        "from sklearn.base import BaseEstimator\n",
        "from sklearn.model_selection import RandomizedSearchCV,GridSearchCV\n",
        "import random\n",
        "N = 42\n",
        "random.seed(N)\n",
        "np.random.seed(N)\n",
        "tf.random.set_seed(N)\n",
        "tf.config.experimental.enable_op_determinism()"
      ]
    },
    {
      "cell_type": "code",
      "source": [
        "#Load data and normalize them\n",
        "\n",
        "# ----- Background Data -----\n",
        "background = np.load('background.npz')['data']\n",
        "stds = np.std(background, axis=-1)[:, :, np.newaxis]\n",
        "background = background/stds\n",
        "background = np.swapaxes(background, 1, 2)\n",
        "\n",
        "# ----- BBH Data -----\n",
        "bbh = np.load('bbh_for_challenge.npy')\n",
        "stds = np.std(bbh, axis=-1)[:, :, np.newaxis]\n",
        "bbh = bbh/stds\n",
        "bbh = np.swapaxes(bbh, 1, 2)\n",
        "\n",
        "# ----- SGLF Data -----\n",
        "sglf = np.load('sglf_for_challenge.npy')\n",
        "stds = np.std(sglf, axis=-1)[:, :, np.newaxis]\n",
        "sglf = sglf/stds\n",
        "sglf = np.swapaxes(sglf, 1, 2)\n",
        "\n",
        "# Create train and test input and target datasets and then shuffle them\n",
        "X = np.concatenate((background, bbh, sglf), axis=0)\n",
        "y = np.concatenate((np.zeros(background.shape[0]), np.ones(bbh.shape[0]), np.ones(sglf.shape[0])), axis=0)\n",
        "perm = np.random.permutation(X.shape[0])\n",
        "X = X[perm]\n",
        "y = y[perm]\n",
        "\n",
        "# Check下先0w0\n",
        "print(f'X train shape:{X.shape}')\n",
        "print(f'y train shape:{y.shape}')"
      ],
      "metadata": {
        "colab": {
          "base_uri": "https://localhost:8080/"
        },
        "id": "qZHhfqJ1gDxc",
        "outputId": "ce7b1048-87c9-4a00-f25c-9115d0d420ac"
      },
      "execution_count": 6,
      "outputs": [
        {
          "output_type": "stream",
          "name": "stdout",
          "text": [
            "X train shape:(300000, 200, 2)\n",
            "y train shape:(300000,)\n"
          ]
        }
      ]
    },
    {
      "cell_type": "code",
      "source": [
        "class CNNClassifier(BaseEstimator):\n",
        "    def __init__(self, input_shape,f1,f2,k1,k2,s1,s2,d,lr,epochs,batch_size):\n",
        "        self.input_shape = input_shape\n",
        "        self.f1 = f1\n",
        "        self.f2 = f2\n",
        "        self.k1 = k1\n",
        "        self.k2 = k2\n",
        "        self.s1 = s1\n",
        "        self.s2 = s2\n",
        "        self.d = d\n",
        "        self.lr = lr\n",
        "        self.epochs = epochs\n",
        "        self.batch_size = batch_size\n",
        "        self.classifier = None\n",
        "\n",
        "    def build_classifier(self):\n",
        "        input = Input(shape=self.input_shape)\n",
        "        x = layers.Conv1D(filters = self.f1, kernel_size = self.k1, strides = self.s1, padding='same', activation='relu')(input)\n",
        "        x = layers.MaxPooling1D()(x)\n",
        "        x = layers.Conv1D(filters = self.f2, kernel_size= self.k2 ,strides= self.s2, padding='same', activation='relu')(x)\n",
        "        x = layers.MaxPooling1D()(x)\n",
        "        x = layers.Flatten()(x)\n",
        "        x = layers.Dense(self.d, activation='relu')(x)\n",
        "        output = layers.Dense(1,activation='sigmoid')(x)\n",
        "\n",
        "        self.classifier = Model(input,output)\n",
        "        self.classifier.compile(optimizer=optimizers.Adam(learning_rate=self.lr), loss='binary_crossentropy', metrics=['accuracy'])\n",
        "\n",
        "    def score(self, X, y):\n",
        "        preds = self.classifier.predict(X)\n",
        "        auc = AUC()\n",
        "        auc.update_state(y, preds)  # preds are probabilities\n",
        "        return auc.result().numpy()\n",
        "\n",
        "    def fit(self,X,y):\n",
        "        self.build_classifier()\n",
        "        self.classifier.fit(X,y, epochs=self.epochs, batch_size=self.batch_size, verbose=0)\n",
        "        return self\n",
        "\n"
      ],
      "metadata": {
        "id": "OW_-6rgFYtoS"
      },
      "execution_count": 7,
      "outputs": []
    },
    {
      "cell_type": "code",
      "source": [
        "# # Grid Search\n",
        "# param_dist = {\n",
        "#     'f1': [16, 32, 64],\n",
        "#     'f2': [16, 32, 64],\n",
        "#     'k1': [3,6,9,18],\n",
        "#     'k2': [3,6,9,18],\n",
        "#     's1': [1,3,5],\n",
        "#     's2': [1,3,5],\n",
        "#     'd': [64, 128],\n",
        "#     'lr': [1e-3,1e-4,5e-4],\n",
        "#     'epochs': [35,60],\n",
        "#     'batch_size': [64,128,512],\n",
        "# }\n",
        "param_dist = {\n",
        "    'f1': [16, 32],\n",
        "    'f2': [16, 32],\n",
        "    'k1': [3],\n",
        "    'k2': [3],\n",
        "    's1': [1],\n",
        "    's2': [1],\n",
        "    'd': [64, 128],\n",
        "    'lr': [1e-3,1e-4,5e-4],\n",
        "    'epochs': [60],\n",
        "    'batch_size': [128,700],\n",
        "}\n",
        "\n",
        "model = CNNClassifier(input_shape=(200, 2), f1=16, f2=16, k1=3, k2=3, s1=1, s2=1, d=64, lr=1e-3, epochs=60, batch_size=128)\n",
        "random_search = RandomizedSearchCV(\n",
        "    estimator=model,\n",
        "    param_distributions=param_dist,\n",
        "    n_iter=10,       # Try 30 random combinations\n",
        "    cv=3,            # 3-fold cross-validation\n",
        "    verbose=2,       # Print progress\n",
        "    n_jobs=1,        # You can set >1 if system allows parallel\n",
        ")\n",
        "random_search.fit(X, y)\n",
        "best_model = random_search.best_estimator_\n",
        "print(\"Best AUC:\", random_search.best_score_)\n",
        "print(\"Best Params:\", random_search.best_params_)"
      ],
      "metadata": {
        "colab": {
          "base_uri": "https://localhost:8080/"
        },
        "id": "o2uiAZw6d-1T",
        "outputId": "1ebfe5c1-1dcf-404d-a09f-ed6aa81cd857"
      },
      "execution_count": 8,
      "outputs": [
        {
          "output_type": "stream",
          "name": "stdout",
          "text": [
            "Fitting 3 folds for each of 10 candidates, totalling 30 fits\n",
            "\u001b[1m3125/3125\u001b[0m \u001b[32m━━━━━━━━━━━━━━━━━━━━\u001b[0m\u001b[37m\u001b[0m \u001b[1m5s\u001b[0m 1ms/step\n",
            "[CV] END batch_size=128, d=128, epochs=60, f1=32, f2=32, k1=3, k2=3, lr=0.001, s1=1, s2=1; total time= 9.5min\n",
            "\u001b[1m3125/3125\u001b[0m \u001b[32m━━━━━━━━━━━━━━━━━━━━\u001b[0m\u001b[37m\u001b[0m \u001b[1m5s\u001b[0m 2ms/step\n",
            "[CV] END batch_size=128, d=128, epochs=60, f1=32, f2=32, k1=3, k2=3, lr=0.001, s1=1, s2=1; total time= 9.4min\n",
            "\u001b[1m3125/3125\u001b[0m \u001b[32m━━━━━━━━━━━━━━━━━━━━\u001b[0m\u001b[37m\u001b[0m \u001b[1m5s\u001b[0m 1ms/step\n",
            "[CV] END batch_size=128, d=128, epochs=60, f1=32, f2=32, k1=3, k2=3, lr=0.001, s1=1, s2=1; total time= 9.0min\n",
            "\u001b[1m3125/3125\u001b[0m \u001b[32m━━━━━━━━━━━━━━━━━━━━\u001b[0m\u001b[37m\u001b[0m \u001b[1m6s\u001b[0m 2ms/step\n",
            "[CV] END batch_size=700, d=128, epochs=60, f1=16, f2=32, k1=3, k2=3, lr=0.0001, s1=1, s2=1; total time= 2.5min\n",
            "\u001b[1m3125/3125\u001b[0m \u001b[32m━━━━━━━━━━━━━━━━━━━━\u001b[0m\u001b[37m\u001b[0m \u001b[1m5s\u001b[0m 2ms/step\n",
            "[CV] END batch_size=700, d=128, epochs=60, f1=16, f2=32, k1=3, k2=3, lr=0.0001, s1=1, s2=1; total time= 2.4min\n",
            "\u001b[1m3125/3125\u001b[0m \u001b[32m━━━━━━━━━━━━━━━━━━━━\u001b[0m\u001b[37m\u001b[0m \u001b[1m5s\u001b[0m 2ms/step\n",
            "[CV] END batch_size=700, d=128, epochs=60, f1=16, f2=32, k1=3, k2=3, lr=0.0001, s1=1, s2=1; total time= 2.5min\n",
            "\u001b[1m3125/3125\u001b[0m \u001b[32m━━━━━━━━━━━━━━━━━━━━\u001b[0m\u001b[37m\u001b[0m \u001b[1m5s\u001b[0m 1ms/step\n",
            "[CV] END batch_size=700, d=128, epochs=60, f1=16, f2=16, k1=3, k2=3, lr=0.0001, s1=1, s2=1; total time= 2.4min\n",
            "\u001b[1m3125/3125\u001b[0m \u001b[32m━━━━━━━━━━━━━━━━━━━━\u001b[0m\u001b[37m\u001b[0m \u001b[1m5s\u001b[0m 1ms/step\n",
            "[CV] END batch_size=700, d=128, epochs=60, f1=16, f2=16, k1=3, k2=3, lr=0.0001, s1=1, s2=1; total time= 2.2min\n",
            "\u001b[1m3125/3125\u001b[0m \u001b[32m━━━━━━━━━━━━━━━━━━━━\u001b[0m\u001b[37m\u001b[0m \u001b[1m6s\u001b[0m 2ms/step\n",
            "[CV] END batch_size=700, d=128, epochs=60, f1=16, f2=16, k1=3, k2=3, lr=0.0001, s1=1, s2=1; total time= 2.3min\n",
            "\u001b[1m3125/3125\u001b[0m \u001b[32m━━━━━━━━━━━━━━━━━━━━\u001b[0m\u001b[37m\u001b[0m \u001b[1m5s\u001b[0m 2ms/step\n",
            "[CV] END batch_size=700, d=128, epochs=60, f1=16, f2=16, k1=3, k2=3, lr=0.0005, s1=1, s2=1; total time= 2.4min\n",
            "\u001b[1m3125/3125\u001b[0m \u001b[32m━━━━━━━━━━━━━━━━━━━━\u001b[0m\u001b[37m\u001b[0m \u001b[1m6s\u001b[0m 2ms/step\n",
            "[CV] END batch_size=700, d=128, epochs=60, f1=16, f2=16, k1=3, k2=3, lr=0.0005, s1=1, s2=1; total time= 2.3min\n",
            "\u001b[1m3125/3125\u001b[0m \u001b[32m━━━━━━━━━━━━━━━━━━━━\u001b[0m\u001b[37m\u001b[0m \u001b[1m5s\u001b[0m 1ms/step\n",
            "[CV] END batch_size=700, d=128, epochs=60, f1=16, f2=16, k1=3, k2=3, lr=0.0005, s1=1, s2=1; total time= 2.3min\n",
            "\u001b[1m3125/3125\u001b[0m \u001b[32m━━━━━━━━━━━━━━━━━━━━\u001b[0m\u001b[37m\u001b[0m \u001b[1m5s\u001b[0m 2ms/step\n",
            "[CV] END batch_size=700, d=128, epochs=60, f1=16, f2=16, k1=3, k2=3, lr=0.001, s1=1, s2=1; total time= 2.2min\n",
            "\u001b[1m3125/3125\u001b[0m \u001b[32m━━━━━━━━━━━━━━━━━━━━\u001b[0m\u001b[37m\u001b[0m \u001b[1m5s\u001b[0m 1ms/step\n",
            "[CV] END batch_size=700, d=128, epochs=60, f1=16, f2=16, k1=3, k2=3, lr=0.001, s1=1, s2=1; total time= 2.3min\n",
            "\u001b[1m3125/3125\u001b[0m \u001b[32m━━━━━━━━━━━━━━━━━━━━\u001b[0m\u001b[37m\u001b[0m \u001b[1m6s\u001b[0m 2ms/step\n",
            "[CV] END batch_size=700, d=128, epochs=60, f1=16, f2=16, k1=3, k2=3, lr=0.001, s1=1, s2=1; total time= 2.3min\n",
            "\u001b[1m3125/3125\u001b[0m \u001b[32m━━━━━━━━━━━━━━━━━━━━\u001b[0m\u001b[37m\u001b[0m \u001b[1m5s\u001b[0m 1ms/step\n",
            "[CV] END batch_size=128, d=128, epochs=60, f1=32, f2=32, k1=3, k2=3, lr=0.0005, s1=1, s2=1; total time= 9.2min\n",
            "\u001b[1m3125/3125\u001b[0m \u001b[32m━━━━━━━━━━━━━━━━━━━━\u001b[0m\u001b[37m\u001b[0m \u001b[1m5s\u001b[0m 2ms/step\n",
            "[CV] END batch_size=128, d=128, epochs=60, f1=32, f2=32, k1=3, k2=3, lr=0.0005, s1=1, s2=1; total time= 9.1min\n",
            "\u001b[1m3125/3125\u001b[0m \u001b[32m━━━━━━━━━━━━━━━━━━━━\u001b[0m\u001b[37m\u001b[0m \u001b[1m5s\u001b[0m 2ms/step\n",
            "[CV] END batch_size=128, d=128, epochs=60, f1=32, f2=32, k1=3, k2=3, lr=0.0005, s1=1, s2=1; total time= 9.3min\n",
            "\u001b[1m3125/3125\u001b[0m \u001b[32m━━━━━━━━━━━━━━━━━━━━\u001b[0m\u001b[37m\u001b[0m \u001b[1m5s\u001b[0m 1ms/step\n",
            "[CV] END batch_size=700, d=128, epochs=60, f1=32, f2=32, k1=3, k2=3, lr=0.0001, s1=1, s2=1; total time= 2.7min\n",
            "\u001b[1m3125/3125\u001b[0m \u001b[32m━━━━━━━━━━━━━━━━━━━━\u001b[0m\u001b[37m\u001b[0m \u001b[1m5s\u001b[0m 2ms/step\n",
            "[CV] END batch_size=700, d=128, epochs=60, f1=32, f2=32, k1=3, k2=3, lr=0.0001, s1=1, s2=1; total time= 2.6min\n",
            "\u001b[1m3125/3125\u001b[0m \u001b[32m━━━━━━━━━━━━━━━━━━━━\u001b[0m\u001b[37m\u001b[0m \u001b[1m5s\u001b[0m 1ms/step\n",
            "[CV] END batch_size=700, d=128, epochs=60, f1=32, f2=32, k1=3, k2=3, lr=0.0001, s1=1, s2=1; total time= 2.6min\n",
            "\u001b[1m3125/3125\u001b[0m \u001b[32m━━━━━━━━━━━━━━━━━━━━\u001b[0m\u001b[37m\u001b[0m \u001b[1m6s\u001b[0m 2ms/step\n",
            "[CV] END batch_size=128, d=64, epochs=60, f1=32, f2=32, k1=3, k2=3, lr=0.001, s1=1, s2=1; total time= 9.3min\n",
            "\u001b[1m3125/3125\u001b[0m \u001b[32m━━━━━━━━━━━━━━━━━━━━\u001b[0m\u001b[37m\u001b[0m \u001b[1m5s\u001b[0m 2ms/step\n",
            "[CV] END batch_size=128, d=64, epochs=60, f1=32, f2=32, k1=3, k2=3, lr=0.001, s1=1, s2=1; total time= 9.5min\n",
            "\u001b[1m3125/3125\u001b[0m \u001b[32m━━━━━━━━━━━━━━━━━━━━\u001b[0m\u001b[37m\u001b[0m \u001b[1m6s\u001b[0m 2ms/step\n",
            "[CV] END batch_size=128, d=64, epochs=60, f1=32, f2=32, k1=3, k2=3, lr=0.001, s1=1, s2=1; total time= 9.3min\n",
            "\u001b[1m3125/3125\u001b[0m \u001b[32m━━━━━━━━━━━━━━━━━━━━\u001b[0m\u001b[37m\u001b[0m \u001b[1m5s\u001b[0m 2ms/step\n",
            "[CV] END batch_size=700, d=128, epochs=60, f1=16, f2=32, k1=3, k2=3, lr=0.0005, s1=1, s2=1; total time= 2.4min\n",
            "\u001b[1m3125/3125\u001b[0m \u001b[32m━━━━━━━━━━━━━━━━━━━━\u001b[0m\u001b[37m\u001b[0m \u001b[1m5s\u001b[0m 1ms/step\n",
            "[CV] END batch_size=700, d=128, epochs=60, f1=16, f2=32, k1=3, k2=3, lr=0.0005, s1=1, s2=1; total time= 2.5min\n",
            "\u001b[1m3125/3125\u001b[0m \u001b[32m━━━━━━━━━━━━━━━━━━━━\u001b[0m\u001b[37m\u001b[0m \u001b[1m5s\u001b[0m 1ms/step\n",
            "[CV] END batch_size=700, d=128, epochs=60, f1=16, f2=32, k1=3, k2=3, lr=0.0005, s1=1, s2=1; total time= 2.4min\n",
            "\u001b[1m3125/3125\u001b[0m \u001b[32m━━━━━━━━━━━━━━━━━━━━\u001b[0m\u001b[37m\u001b[0m \u001b[1m6s\u001b[0m 2ms/step\n",
            "[CV] END batch_size=128, d=64, epochs=60, f1=16, f2=32, k1=3, k2=3, lr=0.0005, s1=1, s2=1; total time= 9.2min\n",
            "\u001b[1m3125/3125\u001b[0m \u001b[32m━━━━━━━━━━━━━━━━━━━━\u001b[0m\u001b[37m\u001b[0m \u001b[1m6s\u001b[0m 2ms/step\n",
            "[CV] END batch_size=128, d=64, epochs=60, f1=16, f2=32, k1=3, k2=3, lr=0.0005, s1=1, s2=1; total time= 9.4min\n",
            "\u001b[1m3125/3125\u001b[0m \u001b[32m━━━━━━━━━━━━━━━━━━━━\u001b[0m\u001b[37m\u001b[0m \u001b[1m5s\u001b[0m 2ms/step\n",
            "[CV] END batch_size=128, d=64, epochs=60, f1=16, f2=32, k1=3, k2=3, lr=0.0005, s1=1, s2=1; total time= 9.3min\n",
            "Best AUC: 0.9975114266077677\n",
            "Best Params: {'s2': 1, 's1': 1, 'lr': 0.0001, 'k2': 3, 'k1': 3, 'f2': 32, 'f1': 16, 'epochs': 60, 'd': 128, 'batch_size': 700}\n"
          ]
        }
      ]
    },
    {
      "cell_type": "code",
      "source": [
        "# Log results to csv\n",
        "\n",
        "results_df = pd.DataFrame(random_search.cv_results_)\n",
        "results_df.to_csv(\"random_search_results.csv\", index=False)"
      ],
      "metadata": {
        "id": "I12z2czWirap"
      },
      "execution_count": 9,
      "outputs": []
    },
    {
      "cell_type": "code",
      "source": [
        "# Test the best hyper-parameter on test dataset\n",
        "# Load test data and normalize them\n",
        "\n",
        "data = np.load('ligo_bb_final.npz')\n",
        "test_data = data['data']\n",
        "stds = np.std(test_data, axis=-1)[:, :, np.newaxis]\n",
        "test_data = test_data/stds\n",
        "test_data = np.swapaxes(test_data, 1, 2)\n",
        "data_label = data['ids']\n",
        "# indices1 = np.where(data_label == 1)[0]\n",
        "# indices0 = np.where(data_label == 0)[0]\n",
        "# background_test_data = test_data[indices0]\n",
        "# signal_test_data = test_data[indices1]\n",
        "\n",
        "# Evaluation\n",
        "\n",
        "auc_score = best_model.score(test_data, data_label)\n",
        "print(\"AUC on test set:\", auc_score)"
      ],
      "metadata": {
        "colab": {
          "base_uri": "https://localhost:8080/"
        },
        "id": "3Iiz-kUffuUm",
        "outputId": "761ed327-1427-437b-8281-ea833af46cc2"
      },
      "execution_count": 10,
      "outputs": [
        {
          "output_type": "stream",
          "name": "stdout",
          "text": [
            "\u001b[1m1875/1875\u001b[0m \u001b[32m━━━━━━━━━━━━━━━━━━━━\u001b[0m\u001b[37m\u001b[0m \u001b[1m4s\u001b[0m 2ms/step\n",
            "AUC on test set: 0.03658789\n"
          ]
        }
      ]
    }
  ]
}